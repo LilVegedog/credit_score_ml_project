{
 "cells": [
  {
   "cell_type": "code",
   "execution_count": 1,
   "id": "33172715",
   "metadata": {},
   "outputs": [],
   "source": [
    "import numpy as np\n",
    "import pandas as pd\n",
    "import matplotlib.pyplot as plt\n",
    "import seaborn as sns\n",
    "from sklearn.model_selection import train_test_split\n",
    "from sklearn.ensemble import RandomForestClassifier\n",
    "from sklearn.metrics import confusion_matrix,classification_report,ConfusionMatrixDisplay,accuracy_score\n",
    "from sklearn.model_selection import GridSearchCV\n",
    "import re\n",
    "import math"
   ]
  },
  {
   "cell_type": "code",
   "execution_count": 2,
   "id": "aa27b364",
   "metadata": {},
   "outputs": [
    {
     "name": "stderr",
     "output_type": "stream",
     "text": [
      "C:\\Users\\jimta\\AppData\\Local\\Temp\\ipykernel_12768\\1131813828.py:1: DtypeWarning: Columns (26) have mixed types. Specify dtype option on import or set low_memory=False.\n",
      "  credit_df = pd.read_csv('credit_score/credit_score_data.csv')\n"
     ]
    }
   ],
   "source": [
    "credit_df = pd.read_csv('credit_score/credit_score_data.csv')"
   ]
  },
  {
   "cell_type": "code",
   "execution_count": 3,
   "id": "f5588ac6",
   "metadata": {},
   "outputs": [
    {
     "data": {
      "text/html": [
       "<div>\n",
       "<style scoped>\n",
       "    .dataframe tbody tr th:only-of-type {\n",
       "        vertical-align: middle;\n",
       "    }\n",
       "\n",
       "    .dataframe tbody tr th {\n",
       "        vertical-align: top;\n",
       "    }\n",
       "\n",
       "    .dataframe thead th {\n",
       "        text-align: right;\n",
       "    }\n",
       "</style>\n",
       "<table border=\"1\" class=\"dataframe\">\n",
       "  <thead>\n",
       "    <tr style=\"text-align: right;\">\n",
       "      <th></th>\n",
       "      <th>Monthly_Inhand_Salary</th>\n",
       "      <th>Num_Bank_Accounts</th>\n",
       "      <th>Num_Credit_Card</th>\n",
       "      <th>Interest_Rate</th>\n",
       "      <th>Delay_from_due_date</th>\n",
       "      <th>Num_Credit_Inquiries</th>\n",
       "      <th>Credit_Utilization_Ratio</th>\n",
       "      <th>Total_EMI_per_month</th>\n",
       "    </tr>\n",
       "  </thead>\n",
       "  <tbody>\n",
       "    <tr>\n",
       "      <th>count</th>\n",
       "      <td>84998.000000</td>\n",
       "      <td>100000.000000</td>\n",
       "      <td>100000.00000</td>\n",
       "      <td>100000.000000</td>\n",
       "      <td>100000.000000</td>\n",
       "      <td>98035.000000</td>\n",
       "      <td>100000.000000</td>\n",
       "      <td>100000.000000</td>\n",
       "    </tr>\n",
       "    <tr>\n",
       "      <th>mean</th>\n",
       "      <td>4194.170850</td>\n",
       "      <td>17.091280</td>\n",
       "      <td>22.47443</td>\n",
       "      <td>72.466040</td>\n",
       "      <td>21.068780</td>\n",
       "      <td>27.754251</td>\n",
       "      <td>32.285173</td>\n",
       "      <td>1403.118217</td>\n",
       "    </tr>\n",
       "    <tr>\n",
       "      <th>std</th>\n",
       "      <td>3183.686167</td>\n",
       "      <td>117.404834</td>\n",
       "      <td>129.05741</td>\n",
       "      <td>466.422621</td>\n",
       "      <td>14.860104</td>\n",
       "      <td>193.177339</td>\n",
       "      <td>5.116875</td>\n",
       "      <td>8306.041270</td>\n",
       "    </tr>\n",
       "    <tr>\n",
       "      <th>min</th>\n",
       "      <td>303.645417</td>\n",
       "      <td>-1.000000</td>\n",
       "      <td>0.00000</td>\n",
       "      <td>1.000000</td>\n",
       "      <td>-5.000000</td>\n",
       "      <td>0.000000</td>\n",
       "      <td>20.000000</td>\n",
       "      <td>0.000000</td>\n",
       "    </tr>\n",
       "    <tr>\n",
       "      <th>25%</th>\n",
       "      <td>1625.568229</td>\n",
       "      <td>3.000000</td>\n",
       "      <td>4.00000</td>\n",
       "      <td>8.000000</td>\n",
       "      <td>10.000000</td>\n",
       "      <td>3.000000</td>\n",
       "      <td>28.052567</td>\n",
       "      <td>30.306660</td>\n",
       "    </tr>\n",
       "    <tr>\n",
       "      <th>50%</th>\n",
       "      <td>3093.745000</td>\n",
       "      <td>6.000000</td>\n",
       "      <td>5.00000</td>\n",
       "      <td>13.000000</td>\n",
       "      <td>18.000000</td>\n",
       "      <td>6.000000</td>\n",
       "      <td>32.305784</td>\n",
       "      <td>69.249473</td>\n",
       "    </tr>\n",
       "    <tr>\n",
       "      <th>75%</th>\n",
       "      <td>5957.448333</td>\n",
       "      <td>7.000000</td>\n",
       "      <td>7.00000</td>\n",
       "      <td>20.000000</td>\n",
       "      <td>28.000000</td>\n",
       "      <td>9.000000</td>\n",
       "      <td>36.496663</td>\n",
       "      <td>161.224249</td>\n",
       "    </tr>\n",
       "    <tr>\n",
       "      <th>max</th>\n",
       "      <td>15204.633333</td>\n",
       "      <td>1798.000000</td>\n",
       "      <td>1499.00000</td>\n",
       "      <td>5797.000000</td>\n",
       "      <td>67.000000</td>\n",
       "      <td>2597.000000</td>\n",
       "      <td>50.000000</td>\n",
       "      <td>82331.000000</td>\n",
       "    </tr>\n",
       "  </tbody>\n",
       "</table>\n",
       "</div>"
      ],
      "text/plain": [
       "       Monthly_Inhand_Salary  Num_Bank_Accounts  Num_Credit_Card  \\\n",
       "count           84998.000000      100000.000000     100000.00000   \n",
       "mean             4194.170850          17.091280         22.47443   \n",
       "std              3183.686167         117.404834        129.05741   \n",
       "min               303.645417          -1.000000          0.00000   \n",
       "25%              1625.568229           3.000000          4.00000   \n",
       "50%              3093.745000           6.000000          5.00000   \n",
       "75%              5957.448333           7.000000          7.00000   \n",
       "max             15204.633333        1798.000000       1499.00000   \n",
       "\n",
       "       Interest_Rate  Delay_from_due_date  Num_Credit_Inquiries  \\\n",
       "count  100000.000000        100000.000000          98035.000000   \n",
       "mean       72.466040            21.068780             27.754251   \n",
       "std       466.422621            14.860104            193.177339   \n",
       "min         1.000000            -5.000000              0.000000   \n",
       "25%         8.000000            10.000000              3.000000   \n",
       "50%        13.000000            18.000000              6.000000   \n",
       "75%        20.000000            28.000000              9.000000   \n",
       "max      5797.000000            67.000000           2597.000000   \n",
       "\n",
       "       Credit_Utilization_Ratio  Total_EMI_per_month  \n",
       "count             100000.000000        100000.000000  \n",
       "mean                  32.285173          1403.118217  \n",
       "std                    5.116875          8306.041270  \n",
       "min                   20.000000             0.000000  \n",
       "25%                   28.052567            30.306660  \n",
       "50%                   32.305784            69.249473  \n",
       "75%                   36.496663           161.224249  \n",
       "max                   50.000000         82331.000000  "
      ]
     },
     "execution_count": 3,
     "metadata": {},
     "output_type": "execute_result"
    }
   ],
   "source": [
    "credit_df.describe()"
   ]
  },
  {
   "cell_type": "code",
   "execution_count": 4,
   "id": "8cc20115",
   "metadata": {},
   "outputs": [
    {
     "name": "stdout",
     "output_type": "stream",
     "text": [
      "<class 'pandas.core.frame.DataFrame'>\n",
      "RangeIndex: 100000 entries, 0 to 99999\n",
      "Data columns (total 28 columns):\n",
      " #   Column                    Non-Null Count   Dtype  \n",
      "---  ------                    --------------   -----  \n",
      " 0   ID                        100000 non-null  object \n",
      " 1   Customer_ID               100000 non-null  object \n",
      " 2   Month                     100000 non-null  object \n",
      " 3   Name                      90015 non-null   object \n",
      " 4   Age                       100000 non-null  object \n",
      " 5   SSN                       100000 non-null  object \n",
      " 6   Occupation                100000 non-null  object \n",
      " 7   Annual_Income             100000 non-null  object \n",
      " 8   Monthly_Inhand_Salary     84998 non-null   float64\n",
      " 9   Num_Bank_Accounts         100000 non-null  int64  \n",
      " 10  Num_Credit_Card           100000 non-null  int64  \n",
      " 11  Interest_Rate             100000 non-null  int64  \n",
      " 12  Num_of_Loan               100000 non-null  object \n",
      " 13  Type_of_Loan              88592 non-null   object \n",
      " 14  Delay_from_due_date       100000 non-null  int64  \n",
      " 15  Num_of_Delayed_Payment    92998 non-null   object \n",
      " 16  Changed_Credit_Limit      100000 non-null  object \n",
      " 17  Num_Credit_Inquiries      98035 non-null   float64\n",
      " 18  Credit_Mix                100000 non-null  object \n",
      " 19  Outstanding_Debt          100000 non-null  object \n",
      " 20  Credit_Utilization_Ratio  100000 non-null  float64\n",
      " 21  Credit_History_Age        90970 non-null   object \n",
      " 22  Payment_of_Min_Amount     100000 non-null  object \n",
      " 23  Total_EMI_per_month       100000 non-null  float64\n",
      " 24  Amount_invested_monthly   95521 non-null   object \n",
      " 25  Payment_Behaviour         100000 non-null  object \n",
      " 26  Monthly_Balance           98800 non-null   object \n",
      " 27  Credit_Score              100000 non-null  object \n",
      "dtypes: float64(4), int64(4), object(20)\n",
      "memory usage: 21.4+ MB\n"
     ]
    }
   ],
   "source": [
    "credit_df.info()"
   ]
  },
  {
   "cell_type": "markdown",
   "id": "7bcbf60f",
   "metadata": {},
   "source": [
    "## Data Preprocessing"
   ]
  },
  {
   "cell_type": "markdown",
   "id": "fba7255e",
   "metadata": {},
   "source": [
    "Check if all values in Customer_ID are 'normal'(i.e. starts with 'CUS_' and ends with a number or an alphabetical letter) to make sure the Customer_ID data is fully reliable for future use"
   ]
  },
  {
   "cell_type": "code",
   "execution_count": 5,
   "id": "30c7f337",
   "metadata": {},
   "outputs": [],
   "source": [
    "unique_cust_id = credit_df['Customer_ID'].unique()"
   ]
  },
  {
   "cell_type": "code",
   "execution_count": 6,
   "id": "8a236600",
   "metadata": {},
   "outputs": [
    {
     "data": {
      "text/plain": [
       "True"
      ]
     },
     "execution_count": 6,
     "metadata": {},
     "output_type": "execute_result"
    }
   ],
   "source": [
    "all_normal = True\n",
    "for ID in unique_cust_id:\n",
    "    if (not ID.startswith('CUS_')) or (not((ID[-1].isalpha()) or (ID[-1].isdigit()))):\n",
    "        all_normal = False\n",
    "        break\n",
    "all_normal"
   ]
  },
  {
   "cell_type": "code",
   "execution_count": 7,
   "id": "d89166b0",
   "metadata": {},
   "outputs": [],
   "source": [
    "# Function for checking if a value is an outlier given the first and the third quantile\n",
    "def is_outlier(value, q1, q3):\n",
    "    # Calculate IQR\n",
    "    iqr = q3 - q1\n",
    "\n",
    "    # check if the value is an outlier\n",
    "    threshold = 1.5\n",
    "    outlier_check = (value < q1 - threshold * iqr) or (value > q3 + threshold * iqr)\n",
    "    return outlier_check"
   ]
  },
  {
   "cell_type": "code",
   "execution_count": 8,
   "id": "9a1643f6",
   "metadata": {},
   "outputs": [],
   "source": [
    "# Function for getting the mode value of a customer's records(by Customer_ID) on a column\n",
    "def get_cust_col_mode_val(data, cust_id, col):\n",
    "    \"\"\"\n",
    "    Parameters: \n",
    "    data = dataframe object where the data is stored\n",
    "    cust_id = id of the customer whose the records we want to look into\n",
    "    col = name of the column we want to get the mode value from\n",
    "    \"\"\"\n",
    "    return data[data['Customer_ID'] == cust_id][col].mode()[0]"
   ]
  },
  {
   "cell_type": "markdown",
   "id": "4a65d62d",
   "metadata": {},
   "source": [
    "By observing Dtype of Age column being 'object' and the Age data, we found that some data entries in Age have non-numeric characters (e.g., trailing underscore) while some other entries have clearly faulty values (i.e., neagtive values or abnormally large values such as 8425, 6476, etc.)"
   ]
  },
  {
   "cell_type": "code",
   "execution_count": 9,
   "id": "b13383a8",
   "metadata": {},
   "outputs": [
    {
     "name": "stdout",
     "output_type": "stream",
     "text": [
      "4939\n"
     ]
    }
   ],
   "source": [
    "#Get the number of age values with trailing '_'\n",
    "underscore_count = 0\n",
    "for age in credit_df['Age']:\n",
    "    if age.endswith('_'):\n",
    "        underscore_count += 1\n",
    "print(underscore_count)"
   ]
  },
  {
   "cell_type": "code",
   "execution_count": 10,
   "id": "661bdda6",
   "metadata": {},
   "outputs": [
    {
     "data": {
      "text/plain": [
       "Age\n",
       "23       2537\n",
       "-500      886\n",
       "28_       139\n",
       "28       2829\n",
       "34       2707\n",
       "         ... \n",
       "8425        1\n",
       "6476        1\n",
       "4808_       1\n",
       "2263        1\n",
       "1342        1\n",
       "Name: count, Length: 1788, dtype: int64"
      ]
     },
     "execution_count": 10,
     "metadata": {},
     "output_type": "execute_result"
    }
   ],
   "source": [
    "credit_df['Age'].value_counts(sort=False)"
   ]
  },
  {
   "cell_type": "code",
   "execution_count": 11,
   "id": "35ee56bd",
   "metadata": {},
   "outputs": [
    {
     "data": {
      "text/plain": [
       "pandas.core.series.Series"
      ]
     },
     "execution_count": 11,
     "metadata": {},
     "output_type": "execute_result"
    }
   ],
   "source": [
    "type(credit_df['Age'].copy())"
   ]
  },
  {
   "cell_type": "code",
   "execution_count": 12,
   "id": "2818985a",
   "metadata": {},
   "outputs": [],
   "source": [
    "# Function for preprocessing data in Age column\n",
    "def Age_preprocessing(data):\n",
    "    tmp_df_copy = data.copy()\n",
    "    tmp_pd_series = data['Age'].copy()\n",
    "    \n",
    "    # remove all non-numerical characters\n",
    "    for i in tmp_pd_series.index:\n",
    "        tmp_pd_series[i] = re.sub(\"[^0-9-]\", \"\", tmp_pd_series[i])\n",
    "    # Convert data type of age data from string(object) to int\n",
    "    tmp_df_copy['Age'] = tmp_pd_series.astype(int)\n",
    "    tmp_pd_series = tmp_pd_series.astype(int)\n",
    "    \n",
    "    # Calculate the first and the third quantile of Age column\n",
    "    Q1 = tmp_pd_series.quantile(0.25)\n",
    "    Q3 = tmp_pd_series.quantile(0.75)\n",
    "    # Replace negative and abnormally large age values with the mode age value\n",
    "    # of the records for the corresponding customer (referring to the Customer_ID)\n",
    "    for i in tmp_pd_series.index:\n",
    "        #print(tmp_pd_series[i])\n",
    "        if (tmp_pd_series[i] < 0) or is_outlier(tmp_pd_series[i], Q1, Q3):\n",
    "            cust_id = tmp_df_copy.loc[i]['Customer_ID']\n",
    "            cust_mode_age = get_cust_col_mode_val(tmp_df_copy, cust_id, 'Age')\n",
    "            tmp_pd_series[i] = cust_mode_age\n",
    "       \n",
    "    return tmp_pd_series"
   ]
  },
  {
   "cell_type": "markdown",
   "id": "d50d5bc3",
   "metadata": {},
   "source": [
    "There are over 7000 samples with Occupation value being '\\_\\_\\_\\_\\_\\_\\_'. Assuming there will be at least one unique Occupation value other than '\\_\\_\\_\\_\\_\\_\\_' for every customer, we will replace '\\_\\_\\_\\_\\_\\_\\_' with the mode Occupation value of each corresponding customer(referring to the Customer_ID) or the Occupation value with the second highest frequency for the customer if '\\_\\_\\_\\_\\_\\_\\_' is the mode"
   ]
  },
  {
   "cell_type": "code",
   "execution_count": 13,
   "id": "d8011515",
   "metadata": {},
   "outputs": [
    {
     "data": {
      "text/plain": [
       "Occupation\n",
       "_______          7062\n",
       "Lawyer           6575\n",
       "Architect        6355\n",
       "Engineer         6350\n",
       "Scientist        6299\n",
       "Mechanic         6291\n",
       "Accountant       6271\n",
       "Developer        6235\n",
       "Media_Manager    6232\n",
       "Teacher          6215\n",
       "Entrepreneur     6174\n",
       "Doctor           6087\n",
       "Journalist       6085\n",
       "Manager          5973\n",
       "Musician         5911\n",
       "Writer           5885\n",
       "Name: count, dtype: int64"
      ]
     },
     "execution_count": 13,
     "metadata": {},
     "output_type": "execute_result"
    }
   ],
   "source": [
    "credit_df['Occupation'].value_counts()"
   ]
  },
  {
   "cell_type": "code",
   "execution_count": 14,
   "id": "4a8377c8",
   "metadata": {},
   "outputs": [],
   "source": [
    "# Function for preprocessing data in Occupation column\n",
    "def Occup_preprocessing(data):\n",
    "    tmp_df_copy = data.copy()\n",
    "    tmp_pd_series = data['Occupation'].copy()\n",
    "    \n",
    "    for i in tmp_pd_series.index:\n",
    "        if tmp_pd_series[i] == '_______':\n",
    "            cust_id = tmp_df_copy.loc[i]['Customer_ID']\n",
    "            cust_mode_occup = get_cust_col_mode_val(tmp_df_copy, cust_id, 'Occupation')\n",
    "            if cust_mode_occup == '_______':\n",
    "                cust_occup_val_counts = tmp_df_copy[tmp_df_copy['Customer_ID'] == cust_id]['Occupation'].value_counts()\n",
    "                # if the length of array of index of value_counts() output is greater than 1, \n",
    "                # it means there is at least one unique Occupation value other than '_______' for this customer, \n",
    "                # we will take the second value in the array \n",
    "                # which is the unique value with the second highest frequency for this customer\n",
    "                if len(cust_occup_val_counts.index) > 1:\n",
    "                    tmp_pd_series[i] = cust_occup_val_counts.index[1]\n",
    "            else:\n",
    "                tmp_pd_series[i] = cust_mode_occup  \n",
    "    \n",
    "    return tmp_pd_series"
   ]
  },
  {
   "cell_type": "markdown",
   "id": "84732ec1",
   "metadata": {},
   "source": [
    "By observing Dtype of Annual_Income column being 'object' and the Annual_Income data, we found that some data entries in Annual_Income have non-numeric character(s) other than the decimal points(e.g., trailing underscore), which makes the data type of the column be string(object). "
   ]
  },
  {
   "cell_type": "code",
   "execution_count": 15,
   "id": "b0fd0a30",
   "metadata": {
    "scrolled": false
   },
   "outputs": [
    {
     "data": {
      "text/plain": [
       "Annual_Income\n",
       "14834.98_     1\n",
       "31280.63_     1\n",
       "12975.96_     1\n",
       "45780.86_     1\n",
       "9295469.0     1\n",
       "24974.35_     1\n",
       "19205.485_    1\n",
       "114082.64_    1\n",
       "30247.7_      1\n",
       "107360.1_     1\n",
       "18207.375_    1\n",
       "100284.24_    1\n",
       "21225262.0    1\n",
       "59703.46_     1\n",
       "30466.74_     1\n",
       "7750.735_     1\n",
       "8693.97_      1\n",
       "14562.32_     1\n",
       "20570363.0    1\n",
       "53143.17_     1\n",
       "Name: count, dtype: int64"
      ]
     },
     "execution_count": 15,
     "metadata": {},
     "output_type": "execute_result"
    }
   ],
   "source": [
    "credit_df['Annual_Income'].value_counts(ascending=True)[:20]"
   ]
  },
  {
   "cell_type": "code",
   "execution_count": 16,
   "id": "253c2631",
   "metadata": {},
   "outputs": [],
   "source": [
    "def Annual_Income_preprocessing(data):\n",
    "    tmp_df_copy = data.copy()\n",
    "    tmp_pd_series = data['Annual_Income'].copy()\n",
    "    \n",
    "    # remove all non-numerical or non-decimal-point characters\n",
    "    for i in tmp_pd_series.index:\n",
    "        tmp_pd_series[i] = re.sub(\"[^0-9.]\", \"\", tmp_pd_series[i])\n",
    "    \n",
    "    tmp_pd_series = tmp_pd_series.astype(float).round(decimals=2)\n",
    "    return tmp_pd_series"
   ]
  },
  {
   "cell_type": "markdown",
   "id": "954aa8df",
   "metadata": {},
   "source": [
    "By observing the dataframe info above and the data on Monthly_Inhand_Salary column in detail, we can see that the Monthly_Inhand_Salary column is of float data type which means there is no faulty non-numerical characters in this column while this column contains 15002 NaN values. We will replace the NaN values witht the most frequent(i.e., mode value) Monthly_Inhand_Salary value of corresponding customer(referring to Customer_ID)"
   ]
  },
  {
   "cell_type": "code",
   "execution_count": 17,
   "id": "64bf821c",
   "metadata": {},
   "outputs": [
    {
     "data": {
      "text/plain": [
       "0        1824.843333\n",
       "1                NaN\n",
       "2                NaN\n",
       "3                NaN\n",
       "4        1824.843333\n",
       "            ...     \n",
       "99995    3359.415833\n",
       "99996    3359.415833\n",
       "99997    3359.415833\n",
       "99998    3359.415833\n",
       "99999    3359.415833\n",
       "Name: Monthly_Inhand_Salary, Length: 100000, dtype: float64"
      ]
     },
     "execution_count": 17,
     "metadata": {},
     "output_type": "execute_result"
    }
   ],
   "source": [
    "credit_df['Monthly_Inhand_Salary']"
   ]
  },
  {
   "cell_type": "code",
   "execution_count": 18,
   "id": "7f6d0f28",
   "metadata": {},
   "outputs": [
    {
     "data": {
      "text/plain": [
       "Monthly_Inhand_Salary\n",
       "NaN            15002\n",
       "2295.058333       15\n",
       "6082.187500       15\n",
       "6769.130000       15\n",
       "6358.956667       15\n",
       "               ...  \n",
       "1087.546445        1\n",
       "3189.212103        1\n",
       "5640.117744        1\n",
       "7727.560450        1\n",
       "2443.654131        1\n",
       "Name: count, Length: 13236, dtype: int64"
      ]
     },
     "execution_count": 18,
     "metadata": {},
     "output_type": "execute_result"
    }
   ],
   "source": [
    "credit_df['Monthly_Inhand_Salary'].value_counts(dropna=False)"
   ]
  },
  {
   "cell_type": "code",
   "execution_count": 19,
   "id": "14e8e229",
   "metadata": {},
   "outputs": [],
   "source": [
    "def Month_Salary_preprocessing(data):\n",
    "    tmp_df_copy = data.copy()\n",
    "    tmp_pd_series = data['Monthly_Inhand_Salary'].copy()\n",
    "    \n",
    "    # replace the NaN values witht the most frequent(i.e., mode value) Monthly_Inhand_Salary value \n",
    "    # of corresponding customer(referring to Customer_ID)\n",
    "    for i in tmp_pd_series.index:\n",
    "        if np.isnan(tmp_pd_series[i]):\n",
    "            cust_id = tmp_df_copy.loc[i]['Customer_ID']\n",
    "            cust_mode_sal = get_cust_col_mode_val(tmp_df_copy, cust_id, 'Monthly_Inhand_Salary')\n",
    "            tmp_pd_series[i] = cust_mode_sal\n",
    "    \n",
    "    return tmp_pd_series"
   ]
  },
  {
   "cell_type": "markdown",
   "id": "068c47db",
   "metadata": {},
   "source": [
    "Num_Bank_Accounts, Num_Credit_Card and Interest_Rate all do not have faulty non-numerical characters and null values, while all three of them contain faulty numerical values(i.e., negative and/or abnormally large) which should be replaced."
   ]
  },
  {
   "cell_type": "code",
   "execution_count": 20,
   "id": "326647ef",
   "metadata": {},
   "outputs": [
    {
     "data": {
      "text/plain": [
       "Num_Bank_Accounts\n",
       "-1          21\n",
       " 0        4328\n",
       " 1        4490\n",
       " 2        4304\n",
       " 3       11950\n",
       "         ...  \n",
       " 1786        1\n",
       " 1789        2\n",
       " 1793        1\n",
       " 1794        2\n",
       " 1798        2\n",
       "Name: count, Length: 943, dtype: int64"
      ]
     },
     "execution_count": 20,
     "metadata": {},
     "output_type": "execute_result"
    }
   ],
   "source": [
    "credit_df['Num_Bank_Accounts'].value_counts().sort_index()"
   ]
  },
  {
   "cell_type": "code",
   "execution_count": 21,
   "id": "814aaf43",
   "metadata": {},
   "outputs": [
    {
     "data": {
      "text/plain": [
       "Num_Credit_Card\n",
       "0          13\n",
       "1        2132\n",
       "2        2149\n",
       "3       13277\n",
       "4       14030\n",
       "        ...  \n",
       "1495        1\n",
       "1496        2\n",
       "1497        3\n",
       "1498        3\n",
       "1499        2\n",
       "Name: count, Length: 1179, dtype: int64"
      ]
     },
     "execution_count": 21,
     "metadata": {},
     "output_type": "execute_result"
    }
   ],
   "source": [
    "credit_df['Num_Credit_Card'].value_counts().sort_index()"
   ]
  },
  {
   "cell_type": "code",
   "execution_count": 22,
   "id": "1fb32817",
   "metadata": {},
   "outputs": [
    {
     "data": {
      "text/plain": [
       "Interest_Rate\n",
       "1       2683\n",
       "2       2465\n",
       "3       2765\n",
       "4       2589\n",
       "5       4979\n",
       "        ... \n",
       "5775       1\n",
       "5776       1\n",
       "5788       1\n",
       "5789       1\n",
       "5797       1\n",
       "Name: count, Length: 1750, dtype: int64"
      ]
     },
     "execution_count": 22,
     "metadata": {},
     "output_type": "execute_result"
    }
   ],
   "source": [
    "credit_df['Interest_Rate'].value_counts().sort_index()"
   ]
  },
  {
   "cell_type": "code",
   "execution_count": 23,
   "id": "d0e13a0a",
   "metadata": {},
   "outputs": [],
   "source": [
    "def num_of_account_card_inter_rate_preprocessing(data):\n",
    "    tmp_df_copy = data.copy()\n",
    "    col_names = ['Num_Bank_Accounts','Num_Credit_Card','Interest_Rate']\n",
    "    preprocessed_series_list = []\n",
    "    for col in col_names: \n",
    "        tmp_pd_series = data[col].copy()\n",
    "        # Calculate the first and the third quantile of current column\n",
    "        Q1 = tmp_pd_series.quantile(0.25)\n",
    "        Q3 = tmp_pd_series.quantile(0.75)\n",
    "        # Replace negative and abnormally large age values with the mode value\n",
    "        # of the records for the corresponding customer (referring to the Customer_ID)\n",
    "        # of the mode value is negative, replace it with 0.\n",
    "        for i in tmp_pd_series.index:\n",
    "            #print(tmp_pd_series[i])\n",
    "            if (tmp_pd_series[i] < 0) or is_outlier(tmp_pd_series[i], Q1, Q3):\n",
    "                cust_id = tmp_df_copy.loc[i]['Customer_ID']\n",
    "                cust_mode_val = get_cust_col_mode_val(tmp_df_copy, cust_id, col)\n",
    "                if cust_mode_val < 0:\n",
    "                    tmp_pd_series[i] = 0\n",
    "                else:\n",
    "                    tmp_pd_series[i] = cust_mode_val\n",
    "        \n",
    "        # Append the processed series into the final list\n",
    "        preprocessed_series_list.append(tmp_pd_series)\n",
    "         \n",
    "    \n",
    "    return preprocessed_series_list"
   ]
  },
  {
   "cell_type": "markdown",
   "id": "2569dd38",
   "metadata": {},
   "source": [
    "Similar to the Age column, the Num_of_Loan column also have some data entries with non-numeric characters (e.g., trailing underscore) while some other entries have clearly faulty values (i.e., neagtive values or abnormally large values such as 8425, 6476, etc.)"
   ]
  },
  {
   "cell_type": "code",
   "execution_count": 24,
   "id": "f3cff3f6",
   "metadata": {},
   "outputs": [],
   "source": [
    "# Function for preprocessing data in Num_of_Loan column\n",
    "def Num_of_Loan_preprocessing(data):\n",
    "    tmp_df_copy = data.copy()\n",
    "    tmp_pd_series = data['Num_of_Loan'].copy()\n",
    "    \n",
    "    # remove all non-numerical characters\n",
    "    for i in tmp_pd_series.index:\n",
    "        tmp_pd_series[i] = re.sub(\"[^0-9-]\", \"\", tmp_pd_series[i])\n",
    "    # Convert data type of Num_of_Loan data from string(object) to int\n",
    "    tmp_df_copy['Num_of_Loan'] = tmp_pd_series.astype(int)\n",
    "    tmp_pd_series = tmp_pd_series.astype(int)\n",
    "    \n",
    "    # Calculate the first and the third quantile of Num_of_Loan column\n",
    "    Q1 = tmp_pd_series.quantile(0.25)\n",
    "    Q3 = tmp_pd_series.quantile(0.75)\n",
    "    # Replace negative and abnormally large values with the mode Num_of_Loan value\n",
    "    # of the records for the corresponding customer (referring to the Customer_ID)\n",
    "    for i in tmp_pd_series.index:\n",
    "        #print(tmp_pd_series[i])\n",
    "        if (tmp_pd_series[i] < 0) or is_outlier(tmp_pd_series[i], Q1, Q3):\n",
    "            cust_id = tmp_df_copy.loc[i]['Customer_ID']\n",
    "            cust_mode_val = get_cust_col_mode_val(tmp_df_copy, cust_id, 'Num_of_Loan')\n",
    "            tmp_pd_series[i] = cust_mode_val\n",
    "       \n",
    "    return tmp_pd_series"
   ]
  },
  {
   "cell_type": "markdown",
   "id": "d1764f16",
   "metadata": {},
   "source": [
    "By looping through the Type_of_Loan column, we got that there are in total 9 unique loan types that have appeared in the sample dataset."
   ]
  },
  {
   "cell_type": "code",
   "execution_count": 25,
   "id": "4ad00f69",
   "metadata": {},
   "outputs": [
    {
     "data": {
      "text/plain": [
       "['Auto Loan',\n",
       " 'Credit-Builder Loan',\n",
       " 'Personal Loan',\n",
       " 'Home Equity Loan',\n",
       " 'Not Specified',\n",
       " 'Mortgage Loan',\n",
       " 'Student Loan',\n",
       " 'Debt Consolidation Loan',\n",
       " 'Payday Loan']"
      ]
     },
     "execution_count": 25,
     "metadata": {},
     "output_type": "execute_result"
    }
   ],
   "source": [
    "all_existed_types = []\n",
    "for types in credit_df['Type_of_Loan']:\n",
    "    if (type(types) == float) and np.isnan(types):\n",
    "        continue\n",
    "    #print(type(types))\n",
    "    types = types.replace(' and','')\n",
    "    types = types.split(', ')\n",
    "    for t in types:\n",
    "        if t not in all_existed_types:\n",
    "            all_existed_types.append(t)\n",
    "\n",
    "all_existed_types"
   ]
  },
  {
   "cell_type": "markdown",
   "id": "2374033e",
   "metadata": {},
   "source": [
    "For each of the 9 unique loan types, we will create a 0-or-1-value column with the name of the corresponding type. If a sample data includes certain loan type, the value on the corresponding column will be 1, 0 otherwise. There are also some entries on the Type_of_Loan column are null. If the Num_of_Loan value of the same data sample is greater than 0, the sample will be categorized as 'Not Specified' loan type."
   ]
  },
  {
   "cell_type": "code",
   "execution_count": 26,
   "id": "8f3bad20",
   "metadata": {},
   "outputs": [],
   "source": [
    "def Loan_Types_preprocessing(data):\n",
    "    tmp_df_copy = data.copy()\n",
    "    tmp_pd_series = data['Type_of_Loan'].copy()\n",
    "    \n",
    "    # Initialize a dictionary for future use to create a new dataframe for the loan types\n",
    "    loan_type_dict = {}\n",
    "    for loan_type in all_existed_types:\n",
    "        loan_type_dict[loan_type] = []\n",
    "        \n",
    "    for i in tmp_pd_series.index:\n",
    "        if (type(tmp_pd_series[i]) == float) and np.isnan(tmp_pd_series[i]):\n",
    "            #If the Num_of_Loan value of the same data sample is greater than 0, \n",
    "            # the sample will be categorized as 'Not Specified' loan type.\n",
    "            if tmp_df_copy.loc[i]['Num_of_Loan'] > 0:\n",
    "                # append 0 to all loan types except 'Not Specified'\n",
    "                for loan_type in [Type for Type in all_existed_types if Type != 'Not Specified']:\n",
    "                    loan_type_dict[loan_type].append(0)\n",
    "                # append 1 to 'Not Specified' loan type\n",
    "                loan_type_dict['Not Specified'].append(1)\n",
    "            else: # Meaning the number of loan for the sample is 0, hence 0 will be appended to all loan types.\n",
    "                for loan_type in all_existed_types:\n",
    "                    loan_type_dict[loan_type].append(0)\n",
    "            continue\n",
    "        \n",
    "        else:\n",
    "            # Get the unique loan types for current sample data\n",
    "            sample_types = tmp_pd_series[i].replace(' and','')\n",
    "            sample_types = set(sample_types.split(', '))\n",
    "            #sample_types = \n",
    "            \n",
    "            #print(sample_types)\n",
    "            # For types that are not in sample_types, append 0, otherwise append 1\n",
    "            for loan_type in [Type for Type in all_existed_types if Type not in sample_types]:\n",
    "                loan_type_dict[loan_type].append(0)\n",
    "            for loan_type in sample_types:\n",
    "                loan_type_dict[loan_type].append(1)\n",
    "                \n",
    "    # Create a dataframe with the loan_type_dict dictionary\n",
    "    #for key in loan_type_dict.keys():\n",
    "    #    print(key)\n",
    "    #    print(len(loan_type_dict[key]))\n",
    "    loan_type_df = pd.DataFrame(loan_type_dict, index=tmp_df_copy.index)\n",
    "    \n",
    "    return loan_type_df"
   ]
  },
  {
   "cell_type": "markdown",
   "id": "00db498f",
   "metadata": {},
   "source": [
    "There seems to be no faulty data in the Delay_from_due_date, neither non-numeric characters nor faulty value(There is some negative values with absolute values less than 10. Considering a customer could pay a loan before the due date, these negative values should not be replace.) has appeared."
   ]
  },
  {
   "cell_type": "code",
   "execution_count": 27,
   "id": "63003e57",
   "metadata": {},
   "outputs": [
    {
     "data": {
      "text/plain": [
       "array([-5, -5, -5, ..., 67, 67, 67], dtype=int64)"
      ]
     },
     "execution_count": 27,
     "metadata": {},
     "output_type": "execute_result"
    }
   ],
   "source": [
    "np.sort(credit_df['Delay_from_due_date'].values)"
   ]
  },
  {
   "cell_type": "markdown",
   "id": "5649f2e1",
   "metadata": {},
   "source": [
    "Similar to the Age column, the Num_of_Delayed_Payment column also have some data entries with non-numeric characters (e.g., trailing underscore) while some other entries have clearly faulty values (i.e., neagtive values or abnormally large values such as 4134, 1530, etc.). In addition, there are also over 7000 NaN values in this column. However, by observing the data, unlike Age and Num_of_Loan columns, we have found that the same customer normally could have different Num_of_Delayed_Payment values across different loan sample records. Hence, we decide to remove all the rows with faulty/NaN values instead of replacing these values. "
   ]
  },
  {
   "cell_type": "code",
   "execution_count": 28,
   "id": "7e831128",
   "metadata": {},
   "outputs": [
    {
     "data": {
      "text/plain": [
       "Num_of_Delayed_Payment\n",
       "NaN     7002\n",
       "19      5327\n",
       "17      5261\n",
       "16      5173\n",
       "10      5153\n",
       "        ... \n",
       "848_       1\n",
       "4134       1\n",
       "1530       1\n",
       "1502       1\n",
       "2047       1\n",
       "Name: count, Length: 750, dtype: int64"
      ]
     },
     "execution_count": 28,
     "metadata": {},
     "output_type": "execute_result"
    }
   ],
   "source": [
    "credit_df['Num_of_Delayed_Payment'].value_counts(dropna=False)"
   ]
  },
  {
   "cell_type": "code",
   "execution_count": 29,
   "id": "a73ee56f",
   "metadata": {},
   "outputs": [],
   "source": [
    "def Num_of_Delayed_Payment_preprocessing(data):\n",
    "    tmp_df_copy = data.copy()\n",
    "    tmp_df_copy.dropna(subset=['Num_of_Delayed_Payment'], inplace=True)\n",
    "    tmp_pd_series = tmp_df_copy['Num_of_Delayed_Payment'].copy()\n",
    "    \n",
    "    # remove all non-numerical characters\n",
    "    for i in tmp_pd_series.index:\n",
    "        tmp_pd_series[i] = re.sub(\"[^0-9-]\", \"\", tmp_pd_series[i])\n",
    "    # Convert data type of Num_of_Delayed_Payment data from string(object) to int\n",
    "    tmp_df_copy['Num_of_Delayed_Payment'] = tmp_pd_series.astype(int)\n",
    "    tmp_pd_series = tmp_pd_series.astype(int)\n",
    "    \n",
    "    # Calculate the first and the third quantile of Num_of_Loan column\n",
    "    Q1 = tmp_pd_series.quantile(0.25)\n",
    "    Q3 = tmp_pd_series.quantile(0.75)\n",
    "    # remove the rows with negative or abnormally large values \n",
    "    for i in tmp_pd_series.index:\n",
    "        #print(tmp_pd_series[i])\n",
    "        if (tmp_pd_series[i] < 0) or is_outlier(tmp_pd_series[i], Q1, Q3):\n",
    "            tmp_df_copy.drop(index=i,inplace=True)\n",
    "       \n",
    "    return tmp_df_copy"
   ]
  },
  {
   "cell_type": "markdown",
   "id": "4c708bf3",
   "metadata": {},
   "source": [
    "There is no clearly faulty value appeared in the Changed_Credit_Limit column, while '\\_' was used for representing no change on credit limit and some of the values has more that 2 number of decimals. We will replace the '\\_' values with 0 to make the data type consistent across the column and round all float values to with 2 number of decimals."
   ]
  },
  {
   "cell_type": "code",
   "execution_count": 30,
   "id": "1d51d0c5",
   "metadata": {},
   "outputs": [
    {
     "data": {
      "text/plain": [
       "Changed_Credit_Limit\n",
       "-0.009999999999999787       4\n",
       "-0.01999999999999957        3\n",
       "-0.020000000000000014       3\n",
       "-0.029999999999999805       1\n",
       "-0.030000000000000027       1\n",
       "                         ... \n",
       "9.97                       97\n",
       "9.98                       63\n",
       "9.989999999999998           2\n",
       "9.99                       80\n",
       "_                        2091\n",
       "Name: count, Length: 4384, dtype: int64"
      ]
     },
     "execution_count": 30,
     "metadata": {},
     "output_type": "execute_result"
    }
   ],
   "source": [
    "credit_df['Changed_Credit_Limit'].value_counts().sort_index()"
   ]
  },
  {
   "cell_type": "code",
   "execution_count": 31,
   "id": "58b6bfe3",
   "metadata": {},
   "outputs": [],
   "source": [
    "# Function for preprocessing data in Changed_Credit_Limit column\n",
    "def Credit_Limit_Change_preprocessing(data):\n",
    "    tmp_df_copy = data.copy()\n",
    "    tmp_pd_series = data['Changed_Credit_Limit'].copy()\n",
    "    \n",
    "    # remove all non-numerical characters\n",
    "    for i in tmp_pd_series.index:\n",
    "        if tmp_pd_series[i] == '_': \n",
    "            tmp_pd_series[i] = 0\n",
    "    # Convert data type of Changed_Credit_Limit data from string(object) to float and round with 2 numbers of decimals\n",
    "    tmp_df_copy['Changed_Credit_Limit'] = (tmp_pd_series.astype(float)).round(decimals=2)\n",
    "    tmp_pd_series = (tmp_pd_series.astype(float)).round(decimals=2)\n",
    "\n",
    "    return tmp_pd_series"
   ]
  },
  {
   "cell_type": "markdown",
   "id": "d37204a7",
   "metadata": {},
   "source": [
    "The Num_Credit_Inquiries column contains some null values and extremely large faulty values(e.g., value greater than 2000). By observing the data, we have found that the Num_Credit_Inquiries values are typically the same for certain customer across different sample loan records of his. Hence, the null and faulty values will be replaced by with the mode value of the records for the corresponding customer (referring to the Customer_ID)."
   ]
  },
  {
   "cell_type": "code",
   "execution_count": 32,
   "id": "09c19771",
   "metadata": {},
   "outputs": [
    {
     "data": {
      "text/plain": [
       "1965"
      ]
     },
     "execution_count": 32,
     "metadata": {},
     "output_type": "execute_result"
    }
   ],
   "source": [
    "sum(np.isnan(credit_df['Num_Credit_Inquiries']))"
   ]
  },
  {
   "cell_type": "code",
   "execution_count": 33,
   "id": "9361a98e",
   "metadata": {},
   "outputs": [
    {
     "data": {
      "text/plain": [
       "Num_Credit_Inquiries\n",
       "0.0        6972\n",
       "1.0        7588\n",
       "2.0        8028\n",
       "3.0        8890\n",
       "4.0       11271\n",
       "          ...  \n",
       "2588.0        1\n",
       "2589.0        2\n",
       "2592.0        2\n",
       "2594.0        1\n",
       "2597.0        1\n",
       "Name: count, Length: 1223, dtype: int64"
      ]
     },
     "execution_count": 33,
     "metadata": {},
     "output_type": "execute_result"
    }
   ],
   "source": [
    "credit_df['Num_Credit_Inquiries'].value_counts().sort_index()"
   ]
  },
  {
   "cell_type": "code",
   "execution_count": 34,
   "id": "6819e554",
   "metadata": {},
   "outputs": [],
   "source": [
    "# Function for preprocessing data in Num_Credit_Inquiries column\n",
    "def Num_of_CI_preprocessing(data):\n",
    "    tmp_df_copy = data.copy()\n",
    "    tmp_pd_series = data['Num_Credit_Inquiries'].copy()\n",
    "    \n",
    "    # Calculate the first and the third quantile of Num_of_Loan column\n",
    "    Q1 = tmp_pd_series.quantile(0.25)\n",
    "    Q3 = tmp_pd_series.quantile(0.75)\n",
    "    # Replace negative and abnormally large values with the mode Num_Credit_Inquiries value\n",
    "    # of the records for the corresponding customer (referring to the Customer_ID)\n",
    "    for i in tmp_pd_series.index:\n",
    "        #print(tmp_pd_series[i])\n",
    "        if np.isnan(tmp_pd_series[i]) or is_outlier(tmp_pd_series[i], Q1, Q3):\n",
    "            cust_id = tmp_df_copy.loc[i]['Customer_ID']\n",
    "            cust_mode_val = get_cust_col_mode_val(tmp_df_copy, cust_id, 'Num_Credit_Inquiries')\n",
    "            tmp_pd_series[i] = cust_mode_val\n",
    "    \n",
    "    tmp_pd_series = tmp_pd_series.astype(int)\n",
    "    return tmp_pd_series"
   ]
  },
  {
   "cell_type": "markdown",
   "id": "8260002d",
   "metadata": {},
   "source": [
    "There are 20195 samples with Credit_Mix value being '\\_'. By using the groupby method, we have found that the statistical measures of the '\\_' class is the closest to those of the Standard class on Monthly_Inhand_Salary, Interest_Rate, Num_of_Loan, Delay_from_due_date, Num_Credit_Inquiries and Credit_Utilization_Ratio. Hence, we will replace the '\\_' values with 'Standard'."
   ]
  },
  {
   "cell_type": "code",
   "execution_count": 35,
   "id": "4e3ee7b3",
   "metadata": {},
   "outputs": [
    {
     "data": {
      "text/plain": [
       "Credit_Mix\n",
       "Standard    36479\n",
       "Good        24337\n",
       "_           20195\n",
       "Bad         18989\n",
       "Name: count, dtype: int64"
      ]
     },
     "execution_count": 35,
     "metadata": {},
     "output_type": "execute_result"
    }
   ],
   "source": [
    "credit_df['Credit_Mix'].value_counts(dropna=False)"
   ]
  },
  {
   "cell_type": "code",
   "execution_count": 36,
   "id": "64e0aaed",
   "metadata": {},
   "outputs": [
    {
     "data": {
      "text/html": [
       "<div>\n",
       "<style scoped>\n",
       "    .dataframe tbody tr th:only-of-type {\n",
       "        vertical-align: middle;\n",
       "    }\n",
       "\n",
       "    .dataframe tbody tr th {\n",
       "        vertical-align: top;\n",
       "    }\n",
       "\n",
       "    .dataframe thead th {\n",
       "        text-align: right;\n",
       "    }\n",
       "</style>\n",
       "<table border=\"1\" class=\"dataframe\">\n",
       "  <thead>\n",
       "    <tr style=\"text-align: right;\">\n",
       "      <th></th>\n",
       "      <th>Credit_Mix</th>\n",
       "      <th>Bad</th>\n",
       "      <th>Good</th>\n",
       "      <th>Standard</th>\n",
       "      <th>_</th>\n",
       "    </tr>\n",
       "  </thead>\n",
       "  <tbody>\n",
       "    <tr>\n",
       "      <th rowspan=\"8\" valign=\"top\">Monthly_Inhand_Salary</th>\n",
       "      <th>count</th>\n",
       "      <td>16183.000000</td>\n",
       "      <td>20630.000000</td>\n",
       "      <td>31032.000000</td>\n",
       "      <td>17153.000000</td>\n",
       "    </tr>\n",
       "    <tr>\n",
       "      <th>mean</th>\n",
       "      <td>2742.260214</td>\n",
       "      <td>5679.796637</td>\n",
       "      <td>3983.779596</td>\n",
       "      <td>4157.831504</td>\n",
       "    </tr>\n",
       "    <tr>\n",
       "      <th>std</th>\n",
       "      <td>1843.260506</td>\n",
       "      <td>3812.092188</td>\n",
       "      <td>2853.699743</td>\n",
       "      <td>3175.972050</td>\n",
       "    </tr>\n",
       "    <tr>\n",
       "      <th>min</th>\n",
       "      <td>303.645417</td>\n",
       "      <td>440.040880</td>\n",
       "      <td>332.128333</td>\n",
       "      <td>303.645417</td>\n",
       "    </tr>\n",
       "    <tr>\n",
       "      <th>25%</th>\n",
       "      <td>1263.518750</td>\n",
       "      <td>2598.077161</td>\n",
       "      <td>1635.065833</td>\n",
       "      <td>1617.173333</td>\n",
       "    </tr>\n",
       "    <tr>\n",
       "      <th>50%</th>\n",
       "      <td>1874.053333</td>\n",
       "      <td>4457.680000</td>\n",
       "      <td>2944.613333</td>\n",
       "      <td>3046.255000</td>\n",
       "    </tr>\n",
       "    <tr>\n",
       "      <th>75%</th>\n",
       "      <td>4272.377500</td>\n",
       "      <td>8560.935000</td>\n",
       "      <td>5800.276667</td>\n",
       "      <td>5902.578333</td>\n",
       "    </tr>\n",
       "    <tr>\n",
       "      <th>max</th>\n",
       "      <td>7268.263333</td>\n",
       "      <td>15204.633333</td>\n",
       "      <td>12514.426667</td>\n",
       "      <td>15204.633333</td>\n",
       "    </tr>\n",
       "    <tr>\n",
       "      <th rowspan=\"8\" valign=\"top\">Interest_Rate</th>\n",
       "      <th>count</th>\n",
       "      <td>18989.000000</td>\n",
       "      <td>24337.000000</td>\n",
       "      <td>36479.000000</td>\n",
       "      <td>20195.000000</td>\n",
       "    </tr>\n",
       "    <tr>\n",
       "      <th>mean</th>\n",
       "      <td>81.649955</td>\n",
       "      <td>69.909151</td>\n",
       "      <td>72.417665</td>\n",
       "      <td>66.999257</td>\n",
       "    </tr>\n",
       "    <tr>\n",
       "      <th>std</th>\n",
       "      <td>454.138274</td>\n",
       "      <td>493.989698</td>\n",
       "      <td>465.899013</td>\n",
       "      <td>443.930227</td>\n",
       "    </tr>\n",
       "    <tr>\n",
       "      <th>min</th>\n",
       "      <td>15.000000</td>\n",
       "      <td>1.000000</td>\n",
       "      <td>1.000000</td>\n",
       "      <td>1.000000</td>\n",
       "    </tr>\n",
       "    <tr>\n",
       "      <th>25%</th>\n",
       "      <td>20.000000</td>\n",
       "      <td>4.000000</td>\n",
       "      <td>9.000000</td>\n",
       "      <td>8.000000</td>\n",
       "    </tr>\n",
       "    <tr>\n",
       "      <th>50%</th>\n",
       "      <td>25.000000</td>\n",
       "      <td>7.000000</td>\n",
       "      <td>15.000000</td>\n",
       "      <td>14.000000</td>\n",
       "    </tr>\n",
       "    <tr>\n",
       "      <th>75%</th>\n",
       "      <td>30.000000</td>\n",
       "      <td>10.000000</td>\n",
       "      <td>19.000000</td>\n",
       "      <td>20.000000</td>\n",
       "    </tr>\n",
       "    <tr>\n",
       "      <th>max</th>\n",
       "      <td>5752.000000</td>\n",
       "      <td>5789.000000</td>\n",
       "      <td>5797.000000</td>\n",
       "      <td>5776.000000</td>\n",
       "    </tr>\n",
       "  </tbody>\n",
       "</table>\n",
       "</div>"
      ],
      "text/plain": [
       "Credit_Mix                            Bad          Good      Standard  \\\n",
       "Monthly_Inhand_Salary count  16183.000000  20630.000000  31032.000000   \n",
       "                      mean    2742.260214   5679.796637   3983.779596   \n",
       "                      std     1843.260506   3812.092188   2853.699743   \n",
       "                      min      303.645417    440.040880    332.128333   \n",
       "                      25%     1263.518750   2598.077161   1635.065833   \n",
       "                      50%     1874.053333   4457.680000   2944.613333   \n",
       "                      75%     4272.377500   8560.935000   5800.276667   \n",
       "                      max     7268.263333  15204.633333  12514.426667   \n",
       "Interest_Rate         count  18989.000000  24337.000000  36479.000000   \n",
       "                      mean      81.649955     69.909151     72.417665   \n",
       "                      std      454.138274    493.989698    465.899013   \n",
       "                      min       15.000000      1.000000      1.000000   \n",
       "                      25%       20.000000      4.000000      9.000000   \n",
       "                      50%       25.000000      7.000000     15.000000   \n",
       "                      75%       30.000000     10.000000     19.000000   \n",
       "                      max     5752.000000   5789.000000   5797.000000   \n",
       "\n",
       "Credit_Mix                              _  \n",
       "Monthly_Inhand_Salary count  17153.000000  \n",
       "                      mean    4157.831504  \n",
       "                      std     3175.972050  \n",
       "                      min      303.645417  \n",
       "                      25%     1617.173333  \n",
       "                      50%     3046.255000  \n",
       "                      75%     5902.578333  \n",
       "                      max    15204.633333  \n",
       "Interest_Rate         count  20195.000000  \n",
       "                      mean      66.999257  \n",
       "                      std      443.930227  \n",
       "                      min        1.000000  \n",
       "                      25%        8.000000  \n",
       "                      50%       14.000000  \n",
       "                      75%       20.000000  \n",
       "                      max     5776.000000  "
      ]
     },
     "execution_count": 36,
     "metadata": {},
     "output_type": "execute_result"
    }
   ],
   "source": [
    "credit_df.groupby(by = 'Credit_Mix').describe().transpose().loc[['Monthly_Inhand_Salary','Interest_Rate']]"
   ]
  },
  {
   "cell_type": "code",
   "execution_count": 37,
   "id": "19a1ad31",
   "metadata": {},
   "outputs": [
    {
     "data": {
      "text/html": [
       "<div>\n",
       "<style scoped>\n",
       "    .dataframe tbody tr th:only-of-type {\n",
       "        vertical-align: middle;\n",
       "    }\n",
       "\n",
       "    .dataframe tbody tr th {\n",
       "        vertical-align: top;\n",
       "    }\n",
       "\n",
       "    .dataframe thead th {\n",
       "        text-align: right;\n",
       "    }\n",
       "</style>\n",
       "<table border=\"1\" class=\"dataframe\">\n",
       "  <thead>\n",
       "    <tr style=\"text-align: right;\">\n",
       "      <th></th>\n",
       "      <th>Credit_Mix</th>\n",
       "      <th>Bad</th>\n",
       "      <th>Good</th>\n",
       "      <th>Standard</th>\n",
       "      <th>_</th>\n",
       "    </tr>\n",
       "  </thead>\n",
       "  <tbody>\n",
       "    <tr>\n",
       "      <th rowspan=\"8\" valign=\"top\">Delay_from_due_date</th>\n",
       "      <th>count</th>\n",
       "      <td>18989.000000</td>\n",
       "      <td>24337.000000</td>\n",
       "      <td>36479.000000</td>\n",
       "      <td>20195.000000</td>\n",
       "    </tr>\n",
       "    <tr>\n",
       "      <th>mean</th>\n",
       "      <td>38.474485</td>\n",
       "      <td>10.032502</td>\n",
       "      <td>19.360098</td>\n",
       "      <td>21.088784</td>\n",
       "    </tr>\n",
       "    <tr>\n",
       "      <th>std</th>\n",
       "      <td>13.979455</td>\n",
       "      <td>7.115920</td>\n",
       "      <td>10.227193</td>\n",
       "      <td>14.927728</td>\n",
       "    </tr>\n",
       "    <tr>\n",
       "      <th>min</th>\n",
       "      <td>10.000000</td>\n",
       "      <td>-5.000000</td>\n",
       "      <td>0.000000</td>\n",
       "      <td>-5.000000</td>\n",
       "    </tr>\n",
       "    <tr>\n",
       "      <th>25%</th>\n",
       "      <td>26.000000</td>\n",
       "      <td>5.000000</td>\n",
       "      <td>12.000000</td>\n",
       "      <td>10.000000</td>\n",
       "    </tr>\n",
       "    <tr>\n",
       "      <th>50%</th>\n",
       "      <td>38.000000</td>\n",
       "      <td>9.000000</td>\n",
       "      <td>19.000000</td>\n",
       "      <td>18.000000</td>\n",
       "    </tr>\n",
       "    <tr>\n",
       "      <th>75%</th>\n",
       "      <td>50.000000</td>\n",
       "      <td>14.000000</td>\n",
       "      <td>26.000000</td>\n",
       "      <td>28.000000</td>\n",
       "    </tr>\n",
       "    <tr>\n",
       "      <th>max</th>\n",
       "      <td>67.000000</td>\n",
       "      <td>35.000000</td>\n",
       "      <td>66.000000</td>\n",
       "      <td>67.000000</td>\n",
       "    </tr>\n",
       "  </tbody>\n",
       "</table>\n",
       "</div>"
      ],
      "text/plain": [
       "Credit_Mix                          Bad          Good      Standard  \\\n",
       "Delay_from_due_date count  18989.000000  24337.000000  36479.000000   \n",
       "                    mean      38.474485     10.032502     19.360098   \n",
       "                    std       13.979455      7.115920     10.227193   \n",
       "                    min       10.000000     -5.000000      0.000000   \n",
       "                    25%       26.000000      5.000000     12.000000   \n",
       "                    50%       38.000000      9.000000     19.000000   \n",
       "                    75%       50.000000     14.000000     26.000000   \n",
       "                    max       67.000000     35.000000     66.000000   \n",
       "\n",
       "Credit_Mix                            _  \n",
       "Delay_from_due_date count  20195.000000  \n",
       "                    mean      21.088784  \n",
       "                    std       14.927728  \n",
       "                    min       -5.000000  \n",
       "                    25%       10.000000  \n",
       "                    50%       18.000000  \n",
       "                    75%       28.000000  \n",
       "                    max       67.000000  "
      ]
     },
     "execution_count": 37,
     "metadata": {},
     "output_type": "execute_result"
    }
   ],
   "source": [
    "credit_df.groupby(by = 'Credit_Mix').describe().transpose().loc[['Delay_from_due_date']]"
   ]
  },
  {
   "cell_type": "code",
   "execution_count": 38,
   "id": "d75b432a",
   "metadata": {},
   "outputs": [
    {
     "data": {
      "text/html": [
       "<div>\n",
       "<style scoped>\n",
       "    .dataframe tbody tr th:only-of-type {\n",
       "        vertical-align: middle;\n",
       "    }\n",
       "\n",
       "    .dataframe tbody tr th {\n",
       "        vertical-align: top;\n",
       "    }\n",
       "\n",
       "    .dataframe thead th {\n",
       "        text-align: right;\n",
       "    }\n",
       "</style>\n",
       "<table border=\"1\" class=\"dataframe\">\n",
       "  <thead>\n",
       "    <tr style=\"text-align: right;\">\n",
       "      <th></th>\n",
       "      <th>Credit_Mix</th>\n",
       "      <th>Bad</th>\n",
       "      <th>Good</th>\n",
       "      <th>Standard</th>\n",
       "      <th>_</th>\n",
       "    </tr>\n",
       "  </thead>\n",
       "  <tbody>\n",
       "    <tr>\n",
       "      <th rowspan=\"8\" valign=\"top\">Num_Credit_Inquiries</th>\n",
       "      <th>count</th>\n",
       "      <td>18619.000000</td>\n",
       "      <td>23859.000000</td>\n",
       "      <td>35758.000000</td>\n",
       "      <td>19799.000000</td>\n",
       "    </tr>\n",
       "    <tr>\n",
       "      <th>mean</th>\n",
       "      <td>32.935174</td>\n",
       "      <td>24.691311</td>\n",
       "      <td>26.928799</td>\n",
       "      <td>28.063943</td>\n",
       "    </tr>\n",
       "    <tr>\n",
       "      <th>std</th>\n",
       "      <td>199.916429</td>\n",
       "      <td>190.240357</td>\n",
       "      <td>190.823028</td>\n",
       "      <td>194.380781</td>\n",
       "    </tr>\n",
       "    <tr>\n",
       "      <th>min</th>\n",
       "      <td>6.000000</td>\n",
       "      <td>0.000000</td>\n",
       "      <td>0.000000</td>\n",
       "      <td>0.000000</td>\n",
       "    </tr>\n",
       "    <tr>\n",
       "      <th>25%</th>\n",
       "      <td>8.000000</td>\n",
       "      <td>1.000000</td>\n",
       "      <td>3.000000</td>\n",
       "      <td>3.000000</td>\n",
       "    </tr>\n",
       "    <tr>\n",
       "      <th>50%</th>\n",
       "      <td>10.000000</td>\n",
       "      <td>3.000000</td>\n",
       "      <td>6.000000</td>\n",
       "      <td>6.000000</td>\n",
       "    </tr>\n",
       "    <tr>\n",
       "      <th>75%</th>\n",
       "      <td>12.000000</td>\n",
       "      <td>4.000000</td>\n",
       "      <td>8.000000</td>\n",
       "      <td>9.000000</td>\n",
       "    </tr>\n",
       "    <tr>\n",
       "      <th>max</th>\n",
       "      <td>2573.000000</td>\n",
       "      <td>2592.000000</td>\n",
       "      <td>2597.000000</td>\n",
       "      <td>2588.000000</td>\n",
       "    </tr>\n",
       "    <tr>\n",
       "      <th rowspan=\"8\" valign=\"top\">Credit_Utilization_Ratio</th>\n",
       "      <th>count</th>\n",
       "      <td>18989.000000</td>\n",
       "      <td>24337.000000</td>\n",
       "      <td>36479.000000</td>\n",
       "      <td>20195.000000</td>\n",
       "    </tr>\n",
       "    <tr>\n",
       "      <th>mean</th>\n",
       "      <td>31.652473</td>\n",
       "      <td>32.920118</td>\n",
       "      <td>32.183729</td>\n",
       "      <td>32.298157</td>\n",
       "    </tr>\n",
       "    <tr>\n",
       "      <th>std</th>\n",
       "      <td>4.986192</td>\n",
       "      <td>5.233062</td>\n",
       "      <td>5.055938</td>\n",
       "      <td>5.120283</td>\n",
       "    </tr>\n",
       "    <tr>\n",
       "      <th>min</th>\n",
       "      <td>20.172942</td>\n",
       "      <td>20.985919</td>\n",
       "      <td>20.000000</td>\n",
       "      <td>20.257073</td>\n",
       "    </tr>\n",
       "    <tr>\n",
       "      <th>25%</th>\n",
       "      <td>27.388269</td>\n",
       "      <td>28.675987</td>\n",
       "      <td>27.984419</td>\n",
       "      <td>28.051943</td>\n",
       "    </tr>\n",
       "    <tr>\n",
       "      <th>50%</th>\n",
       "      <td>31.769669</td>\n",
       "      <td>32.963784</td>\n",
       "      <td>32.135569</td>\n",
       "      <td>32.378326</td>\n",
       "    </tr>\n",
       "    <tr>\n",
       "      <th>75%</th>\n",
       "      <td>35.920011</td>\n",
       "      <td>37.134126</td>\n",
       "      <td>36.372654</td>\n",
       "      <td>36.480644</td>\n",
       "    </tr>\n",
       "    <tr>\n",
       "      <th>max</th>\n",
       "      <td>43.048022</td>\n",
       "      <td>50.000000</td>\n",
       "      <td>47.555983</td>\n",
       "      <td>49.254983</td>\n",
       "    </tr>\n",
       "  </tbody>\n",
       "</table>\n",
       "</div>"
      ],
      "text/plain": [
       "Credit_Mix                               Bad          Good      Standard  \\\n",
       "Num_Credit_Inquiries     count  18619.000000  23859.000000  35758.000000   \n",
       "                         mean      32.935174     24.691311     26.928799   \n",
       "                         std      199.916429    190.240357    190.823028   \n",
       "                         min        6.000000      0.000000      0.000000   \n",
       "                         25%        8.000000      1.000000      3.000000   \n",
       "                         50%       10.000000      3.000000      6.000000   \n",
       "                         75%       12.000000      4.000000      8.000000   \n",
       "                         max     2573.000000   2592.000000   2597.000000   \n",
       "Credit_Utilization_Ratio count  18989.000000  24337.000000  36479.000000   \n",
       "                         mean      31.652473     32.920118     32.183729   \n",
       "                         std        4.986192      5.233062      5.055938   \n",
       "                         min       20.172942     20.985919     20.000000   \n",
       "                         25%       27.388269     28.675987     27.984419   \n",
       "                         50%       31.769669     32.963784     32.135569   \n",
       "                         75%       35.920011     37.134126     36.372654   \n",
       "                         max       43.048022     50.000000     47.555983   \n",
       "\n",
       "Credit_Mix                                 _  \n",
       "Num_Credit_Inquiries     count  19799.000000  \n",
       "                         mean      28.063943  \n",
       "                         std      194.380781  \n",
       "                         min        0.000000  \n",
       "                         25%        3.000000  \n",
       "                         50%        6.000000  \n",
       "                         75%        9.000000  \n",
       "                         max     2588.000000  \n",
       "Credit_Utilization_Ratio count  20195.000000  \n",
       "                         mean      32.298157  \n",
       "                         std        5.120283  \n",
       "                         min       20.257073  \n",
       "                         25%       28.051943  \n",
       "                         50%       32.378326  \n",
       "                         75%       36.480644  \n",
       "                         max       49.254983  "
      ]
     },
     "execution_count": 38,
     "metadata": {},
     "output_type": "execute_result"
    }
   ],
   "source": [
    "credit_df.groupby(by = 'Credit_Mix').describe().transpose().loc[['Num_Credit_Inquiries','Credit_Utilization_Ratio']]"
   ]
  },
  {
   "cell_type": "code",
   "execution_count": 39,
   "id": "811f57e9",
   "metadata": {},
   "outputs": [],
   "source": [
    "credit_df['Credit_Mix'].replace(to_replace = '_', value='Standard', inplace=True)"
   ]
  },
  {
   "cell_type": "code",
   "execution_count": 40,
   "id": "82181605",
   "metadata": {},
   "outputs": [
    {
     "data": {
      "text/plain": [
       "Credit_Mix\n",
       "Standard    56674\n",
       "Good        24337\n",
       "Bad         18989\n",
       "Name: count, dtype: int64"
      ]
     },
     "execution_count": 40,
     "metadata": {},
     "output_type": "execute_result"
    }
   ],
   "source": [
    "credit_df['Credit_Mix'].value_counts()"
   ]
  },
  {
   "cell_type": "markdown",
   "id": "b6015c34",
   "metadata": {},
   "source": [
    "Some of the entries on the Outstanding_Debt contain non-numerical character(s) (e.g., trailing underscore) which need to be removed."
   ]
  },
  {
   "cell_type": "code",
   "execution_count": 41,
   "id": "716f554a",
   "metadata": {},
   "outputs": [
    {
     "data": {
      "text/plain": [
       "Outstanding_Debt\n",
       "1360.45     24\n",
       "460.46      23\n",
       "1151.7      23\n",
       "1109.03     23\n",
       "467.7       16\n",
       "            ..\n",
       "245.46_      1\n",
       "645.77_      1\n",
       "174.79_      1\n",
       "1181.13_     1\n",
       "1013.53_     1\n",
       "Name: count, Length: 13178, dtype: int64"
      ]
     },
     "execution_count": 41,
     "metadata": {},
     "output_type": "execute_result"
    }
   ],
   "source": [
    "credit_df['Outstanding_Debt'].value_counts()"
   ]
  },
  {
   "cell_type": "code",
   "execution_count": 42,
   "id": "ad3568b4",
   "metadata": {},
   "outputs": [],
   "source": [
    "def Outstand_Debt_preprocessing(data):\n",
    "    tmp_df_copy = data.copy()\n",
    "    tmp_pd_series = tmp_df_copy['Outstanding_Debt'].copy()\n",
    "    \n",
    "    # remove all non-numerical characters\n",
    "    for i in tmp_pd_series.index:\n",
    "        tmp_pd_series[i] = re.sub(\"[^0-9.]\", \"\", tmp_pd_series[i])\n",
    "    # Convert data type of Outstanding_Debt data from string(object) to float\n",
    "    tmp_pd_series = tmp_pd_series.astype(float)\n",
    "    \n",
    "    return tmp_pd_series"
   ]
  },
  {
   "cell_type": "markdown",
   "id": "6297d39a",
   "metadata": {},
   "source": [
    "There is not any clear faulty data in the Credit_Utilization_Ratio column. Hence, the column does not need to be cleaned and preprocessed."
   ]
  },
  {
   "cell_type": "code",
   "execution_count": 43,
   "id": "23dbefe2",
   "metadata": {},
   "outputs": [
    {
     "data": {
      "text/plain": [
       "0        26.822620\n",
       "1        31.944960\n",
       "2        28.609352\n",
       "3        31.377862\n",
       "4        24.797347\n",
       "           ...    \n",
       "99995    34.663572\n",
       "99996    40.565631\n",
       "99997    41.255522\n",
       "99998    33.638208\n",
       "99999    34.192463\n",
       "Name: Credit_Utilization_Ratio, Length: 100000, dtype: float64"
      ]
     },
     "execution_count": 43,
     "metadata": {},
     "output_type": "execute_result"
    }
   ],
   "source": [
    "credit_df['Credit_Utilization_Ratio']"
   ]
  },
  {
   "cell_type": "code",
   "execution_count": 44,
   "id": "5372de77",
   "metadata": {},
   "outputs": [
    {
     "data": {
      "text/plain": [
       "0"
      ]
     },
     "execution_count": 44,
     "metadata": {},
     "output_type": "execute_result"
    }
   ],
   "source": [
    "sum(np.isnan(credit_df['Credit_Utilization_Ratio']))"
   ]
  },
  {
   "cell_type": "code",
   "execution_count": 45,
   "id": "d38ed6a2",
   "metadata": {},
   "outputs": [
    {
     "name": "stdout",
     "output_type": "stream",
     "text": [
      "50.00000000000001\n",
      "20.0\n"
     ]
    }
   ],
   "source": [
    "print(credit_df['Credit_Utilization_Ratio'].max())\n",
    "print(credit_df['Credit_Utilization_Ratio'].min())"
   ]
  },
  {
   "cell_type": "markdown",
   "id": "dd376e2d",
   "metadata": {},
   "source": [
    "The Credit_History_Age column contain the length of credit history of customers detailed into the unit of months with string data type. As several months more or less in the credit history would not make a big difference for a customer's credit score. We will round the length of credit history to the unit of years and covert the column into data type of integer. "
   ]
  },
  {
   "cell_type": "markdown",
   "id": "813f4f77",
   "metadata": {},
   "source": [
    "There are also some entries are NaN on the Credit_History_Age column. Since by observing the data, we saw the Credit_History_Age values are usually in sequence for the same customer, the NaN values will be replaced by the Credit_History_Age value on the row above it(or loop through the rows below it until a row with the same Customer_ID and not-NaN if NaN Credit_History_Age value is found, if it takes place at the first record for the customer). "
   ]
  },
  {
   "cell_type": "code",
   "execution_count": 46,
   "id": "20979fb7",
   "metadata": {},
   "outputs": [
    {
     "data": {
      "text/plain": [
       "0         22 Years and 1 Months\n",
       "1                           NaN\n",
       "2         22 Years and 3 Months\n",
       "3         22 Years and 4 Months\n",
       "4         22 Years and 5 Months\n",
       "                  ...          \n",
       "99995     31 Years and 6 Months\n",
       "99996     31 Years and 7 Months\n",
       "99997     31 Years and 8 Months\n",
       "99998     31 Years and 9 Months\n",
       "99999    31 Years and 10 Months\n",
       "Name: Credit_History_Age, Length: 100000, dtype: object"
      ]
     },
     "execution_count": 46,
     "metadata": {},
     "output_type": "execute_result"
    }
   ],
   "source": [
    "credit_df['Credit_History_Age']"
   ]
  },
  {
   "cell_type": "code",
   "execution_count": 47,
   "id": "84ac5622",
   "metadata": {},
   "outputs": [],
   "source": [
    "def Credit_Hist_Age_preprocessing(data):\n",
    "    tmp_df_copy = data.copy()\n",
    "    tmp_pd_series = tmp_df_copy['Credit_History_Age'].copy()\n",
    "    \n",
    "    # loop through the column first time to conver the string values to float in unit of years\n",
    "    for i in tmp_pd_series.index:\n",
    "        if (type(tmp_pd_series[i]) == float) and np.isnan(tmp_pd_series[i]):\n",
    "            continue\n",
    "        else:\n",
    "            months = float(tmp_pd_series[i][tmp_pd_series[i].index('and') + 4])\n",
    "            years = float(tmp_pd_series[i][:tmp_pd_series[i].index(' Years')])\n",
    "            # If it is greater than 6 months, round the value 1 year up.\n",
    "            if months > 6:\n",
    "                years += 1\n",
    "            tmp_pd_series[i] = years\n",
    "    \n",
    "    # Convert the column from object(string) to float\n",
    "    tmp_pd_series = tmp_pd_series.astype(float)\n",
    "    tmp_df_copy['Credit_History_Age'] = tmp_pd_series.astype(float)\n",
    "    \n",
    "    # loop through the column second time to replace the NaN values \n",
    "    # with the value of the same customer(by Customer_ID) on 1 row above \n",
    "    # or loop through the rows below it until a row with the same Customer_ID and not-NaN if NaN Credit_History_Age value is found\n",
    "    series_index = tmp_pd_series.index\n",
    "    for i in range(len(series_index)):\n",
    "        #print(np.isnan(tmp_pd_series[series_index[i]]))\n",
    "        if np.isnan(tmp_pd_series[series_index[i]]):\n",
    "            if (tmp_df_copy.loc[series_index[i-1]]['Customer_ID'] \n",
    "                == tmp_df_copy.loc[series_index[i]]['Customer_ID']):\n",
    "                tmp_pd_series[series_index[i]] = tmp_df_copy.loc[series_index[i-1]]['Credit_History_Age']\n",
    "            else:\n",
    "                for j in series_index[i:]:\n",
    "                    if(tmp_df_copy.loc[j]['Customer_ID'] == tmp_df_copy.loc[j]['Customer_ID']):\n",
    "                        if not np.isnan(tmp_df_copy.loc[j]['Credit_History_Age']):\n",
    "                            tmp_pd_series[series_index[i]] = tmp_df_copy.loc[j]['Credit_History_Age']\n",
    "                            break\n",
    "                        else:\n",
    "                            continue\n",
    "                    else:\n",
    "                        break\n",
    "    # Conver the data type to int\n",
    "    # In case there is still some NaN value left, we use dropna\n",
    "    tmp_df_copy['Credit_History_Age'] = tmp_pd_series\n",
    "    tmp_pd_series.dropna(inplace=True)\n",
    "    tmp_df_copy.dropna(subset=['Credit_History_Age'], inplace=True)\n",
    "    \n",
    "    #print(tmp_pd_series.value_counts(dropna=False))\n",
    "    tmp_df_copy['Credit_History_Age'] = tmp_pd_series.astype(int)\n",
    "    \n",
    "    return tmp_df_copy\n",
    "    \n",
    "            "
   ]
  },
  {
   "cell_type": "markdown",
   "id": "985af43b",
   "metadata": {},
   "source": [
    "The Payment_of_Min_Amount column has 3 unique categories. There is not any null or faulty values. We are not sure what the 'NM' exactly means(probably 'Not Mandatory'?). But because the statistical measures for the samples of the 'NM' category is not really close to that of either one of other two categories, we decide to leave the column as it is."
   ]
  },
  {
   "cell_type": "code",
   "execution_count": 48,
   "id": "e8f0c51d",
   "metadata": {},
   "outputs": [
    {
     "data": {
      "text/plain": [
       "Payment_of_Min_Amount\n",
       "Yes    52326\n",
       "No     35667\n",
       "NM     12007\n",
       "Name: count, dtype: int64"
      ]
     },
     "execution_count": 48,
     "metadata": {},
     "output_type": "execute_result"
    }
   ],
   "source": [
    "credit_df['Payment_of_Min_Amount'].value_counts()"
   ]
  },
  {
   "cell_type": "code",
   "execution_count": 49,
   "id": "6127f8a7",
   "metadata": {},
   "outputs": [
    {
     "data": {
      "text/html": [
       "<div>\n",
       "<style scoped>\n",
       "    .dataframe tbody tr th:only-of-type {\n",
       "        vertical-align: middle;\n",
       "    }\n",
       "\n",
       "    .dataframe tbody tr th {\n",
       "        vertical-align: top;\n",
       "    }\n",
       "\n",
       "    .dataframe thead th {\n",
       "        text-align: right;\n",
       "    }\n",
       "</style>\n",
       "<table border=\"1\" class=\"dataframe\">\n",
       "  <thead>\n",
       "    <tr style=\"text-align: right;\">\n",
       "      <th></th>\n",
       "      <th>Payment_of_Min_Amount</th>\n",
       "      <th>NM</th>\n",
       "      <th>No</th>\n",
       "      <th>Yes</th>\n",
       "    </tr>\n",
       "  </thead>\n",
       "  <tbody>\n",
       "    <tr>\n",
       "      <th rowspan=\"8\" valign=\"top\">Monthly_Inhand_Salary</th>\n",
       "      <th>count</th>\n",
       "      <td>10170.000000</td>\n",
       "      <td>30228.000000</td>\n",
       "      <td>44600.000000</td>\n",
       "    </tr>\n",
       "    <tr>\n",
       "      <th>mean</th>\n",
       "      <td>4221.183928</td>\n",
       "      <td>5379.845808</td>\n",
       "      <td>3384.410633</td>\n",
       "    </tr>\n",
       "    <tr>\n",
       "      <th>std</th>\n",
       "      <td>3215.221088</td>\n",
       "      <td>3662.817491</td>\n",
       "      <td>2501.660143</td>\n",
       "    </tr>\n",
       "    <tr>\n",
       "      <th>min</th>\n",
       "      <td>332.431250</td>\n",
       "      <td>440.040880</td>\n",
       "      <td>303.645417</td>\n",
       "    </tr>\n",
       "    <tr>\n",
       "      <th>25%</th>\n",
       "      <td>1630.684167</td>\n",
       "      <td>2438.357500</td>\n",
       "      <td>1417.340833</td>\n",
       "    </tr>\n",
       "    <tr>\n",
       "      <th>50%</th>\n",
       "      <td>3104.813333</td>\n",
       "      <td>3828.355000</td>\n",
       "      <td>2644.078333</td>\n",
       "    </tr>\n",
       "    <tr>\n",
       "      <th>75%</th>\n",
       "      <td>5964.883333</td>\n",
       "      <td>8043.110000</td>\n",
       "      <td>4940.072500</td>\n",
       "    </tr>\n",
       "    <tr>\n",
       "      <th>max</th>\n",
       "      <td>15167.180000</td>\n",
       "      <td>15204.633333</td>\n",
       "      <td>12514.426667</td>\n",
       "    </tr>\n",
       "    <tr>\n",
       "      <th rowspan=\"8\" valign=\"top\">Interest_Rate</th>\n",
       "      <th>count</th>\n",
       "      <td>12007.000000</td>\n",
       "      <td>35667.000000</td>\n",
       "      <td>52326.000000</td>\n",
       "    </tr>\n",
       "    <tr>\n",
       "      <th>mean</th>\n",
       "      <td>72.538769</td>\n",
       "      <td>67.754507</td>\n",
       "      <td>75.660876</td>\n",
       "    </tr>\n",
       "    <tr>\n",
       "      <th>std</th>\n",
       "      <td>465.430319</td>\n",
       "      <td>480.876629</td>\n",
       "      <td>456.521871</td>\n",
       "    </tr>\n",
       "    <tr>\n",
       "      <th>min</th>\n",
       "      <td>1.000000</td>\n",
       "      <td>1.000000</td>\n",
       "      <td>5.000000</td>\n",
       "    </tr>\n",
       "    <tr>\n",
       "      <th>25%</th>\n",
       "      <td>8.000000</td>\n",
       "      <td>4.000000</td>\n",
       "      <td>14.000000</td>\n",
       "    </tr>\n",
       "    <tr>\n",
       "      <th>50%</th>\n",
       "      <td>14.000000</td>\n",
       "      <td>8.000000</td>\n",
       "      <td>19.000000</td>\n",
       "    </tr>\n",
       "    <tr>\n",
       "      <th>75%</th>\n",
       "      <td>20.000000</td>\n",
       "      <td>11.000000</td>\n",
       "      <td>26.000000</td>\n",
       "    </tr>\n",
       "    <tr>\n",
       "      <th>max</th>\n",
       "      <td>5774.000000</td>\n",
       "      <td>5789.000000</td>\n",
       "      <td>5797.000000</td>\n",
       "    </tr>\n",
       "  </tbody>\n",
       "</table>\n",
       "</div>"
      ],
      "text/plain": [
       "Payment_of_Min_Amount                  NM            No           Yes\n",
       "Monthly_Inhand_Salary count  10170.000000  30228.000000  44600.000000\n",
       "                      mean    4221.183928   5379.845808   3384.410633\n",
       "                      std     3215.221088   3662.817491   2501.660143\n",
       "                      min      332.431250    440.040880    303.645417\n",
       "                      25%     1630.684167   2438.357500   1417.340833\n",
       "                      50%     3104.813333   3828.355000   2644.078333\n",
       "                      75%     5964.883333   8043.110000   4940.072500\n",
       "                      max    15167.180000  15204.633333  12514.426667\n",
       "Interest_Rate         count  12007.000000  35667.000000  52326.000000\n",
       "                      mean      72.538769     67.754507     75.660876\n",
       "                      std      465.430319    480.876629    456.521871\n",
       "                      min        1.000000      1.000000      5.000000\n",
       "                      25%        8.000000      4.000000     14.000000\n",
       "                      50%       14.000000      8.000000     19.000000\n",
       "                      75%       20.000000     11.000000     26.000000\n",
       "                      max     5774.000000   5789.000000   5797.000000"
      ]
     },
     "execution_count": 49,
     "metadata": {},
     "output_type": "execute_result"
    }
   ],
   "source": [
    "credit_df.groupby(by = 'Payment_of_Min_Amount').describe().transpose().loc[['Monthly_Inhand_Salary','Interest_Rate']]"
   ]
  },
  {
   "cell_type": "code",
   "execution_count": 50,
   "id": "f4626fbb",
   "metadata": {},
   "outputs": [
    {
     "data": {
      "text/html": [
       "<div>\n",
       "<style scoped>\n",
       "    .dataframe tbody tr th:only-of-type {\n",
       "        vertical-align: middle;\n",
       "    }\n",
       "\n",
       "    .dataframe tbody tr th {\n",
       "        vertical-align: top;\n",
       "    }\n",
       "\n",
       "    .dataframe thead th {\n",
       "        text-align: right;\n",
       "    }\n",
       "</style>\n",
       "<table border=\"1\" class=\"dataframe\">\n",
       "  <thead>\n",
       "    <tr style=\"text-align: right;\">\n",
       "      <th></th>\n",
       "      <th>Payment_of_Min_Amount</th>\n",
       "      <th>NM</th>\n",
       "      <th>No</th>\n",
       "      <th>Yes</th>\n",
       "    </tr>\n",
       "  </thead>\n",
       "  <tbody>\n",
       "    <tr>\n",
       "      <th rowspan=\"8\" valign=\"top\">Delay_from_due_date</th>\n",
       "      <th>count</th>\n",
       "      <td>12007.000000</td>\n",
       "      <td>35667.000000</td>\n",
       "      <td>52326.000000</td>\n",
       "    </tr>\n",
       "    <tr>\n",
       "      <th>mean</th>\n",
       "      <td>21.120596</td>\n",
       "      <td>11.898982</td>\n",
       "      <td>27.307304</td>\n",
       "    </tr>\n",
       "    <tr>\n",
       "      <th>std</th>\n",
       "      <td>14.831379</td>\n",
       "      <td>7.996447</td>\n",
       "      <td>15.222453</td>\n",
       "    </tr>\n",
       "    <tr>\n",
       "      <th>min</th>\n",
       "      <td>-5.000000</td>\n",
       "      <td>-5.000000</td>\n",
       "      <td>0.000000</td>\n",
       "    </tr>\n",
       "    <tr>\n",
       "      <th>25%</th>\n",
       "      <td>10.000000</td>\n",
       "      <td>6.000000</td>\n",
       "      <td>16.000000</td>\n",
       "    </tr>\n",
       "    <tr>\n",
       "      <th>50%</th>\n",
       "      <td>18.000000</td>\n",
       "      <td>11.000000</td>\n",
       "      <td>24.000000</td>\n",
       "    </tr>\n",
       "    <tr>\n",
       "      <th>75%</th>\n",
       "      <td>28.000000</td>\n",
       "      <td>16.000000</td>\n",
       "      <td>36.000000</td>\n",
       "    </tr>\n",
       "    <tr>\n",
       "      <th>max</th>\n",
       "      <td>67.000000</td>\n",
       "      <td>35.000000</td>\n",
       "      <td>67.000000</td>\n",
       "    </tr>\n",
       "  </tbody>\n",
       "</table>\n",
       "</div>"
      ],
      "text/plain": [
       "Payment_of_Min_Amount                NM            No           Yes\n",
       "Delay_from_due_date count  12007.000000  35667.000000  52326.000000\n",
       "                    mean      21.120596     11.898982     27.307304\n",
       "                    std       14.831379      7.996447     15.222453\n",
       "                    min       -5.000000     -5.000000      0.000000\n",
       "                    25%       10.000000      6.000000     16.000000\n",
       "                    50%       18.000000     11.000000     24.000000\n",
       "                    75%       28.000000     16.000000     36.000000\n",
       "                    max       67.000000     35.000000     67.000000"
      ]
     },
     "execution_count": 50,
     "metadata": {},
     "output_type": "execute_result"
    }
   ],
   "source": [
    "credit_df.groupby(by = 'Payment_of_Min_Amount').describe().transpose().loc[['Delay_from_due_date']]"
   ]
  },
  {
   "cell_type": "code",
   "execution_count": 51,
   "id": "2b213b0d",
   "metadata": {
    "scrolled": false
   },
   "outputs": [
    {
     "data": {
      "text/html": [
       "<div>\n",
       "<style scoped>\n",
       "    .dataframe tbody tr th:only-of-type {\n",
       "        vertical-align: middle;\n",
       "    }\n",
       "\n",
       "    .dataframe tbody tr th {\n",
       "        vertical-align: top;\n",
       "    }\n",
       "\n",
       "    .dataframe thead th {\n",
       "        text-align: right;\n",
       "    }\n",
       "</style>\n",
       "<table border=\"1\" class=\"dataframe\">\n",
       "  <thead>\n",
       "    <tr style=\"text-align: right;\">\n",
       "      <th></th>\n",
       "      <th>Payment_of_Min_Amount</th>\n",
       "      <th>NM</th>\n",
       "      <th>No</th>\n",
       "      <th>Yes</th>\n",
       "    </tr>\n",
       "  </thead>\n",
       "  <tbody>\n",
       "    <tr>\n",
       "      <th rowspan=\"8\" valign=\"top\">Num_Credit_Inquiries</th>\n",
       "      <th>count</th>\n",
       "      <td>11791.000000</td>\n",
       "      <td>34939.000000</td>\n",
       "      <td>51305.000000</td>\n",
       "    </tr>\n",
       "    <tr>\n",
       "      <th>mean</th>\n",
       "      <td>26.448732</td>\n",
       "      <td>24.540313</td>\n",
       "      <td>30.242998</td>\n",
       "    </tr>\n",
       "    <tr>\n",
       "      <th>std</th>\n",
       "      <td>185.137721</td>\n",
       "      <td>190.559122</td>\n",
       "      <td>196.693877</td>\n",
       "    </tr>\n",
       "    <tr>\n",
       "      <th>min</th>\n",
       "      <td>0.000000</td>\n",
       "      <td>0.000000</td>\n",
       "      <td>0.000000</td>\n",
       "    </tr>\n",
       "    <tr>\n",
       "      <th>25%</th>\n",
       "      <td>3.000000</td>\n",
       "      <td>1.000000</td>\n",
       "      <td>6.000000</td>\n",
       "    </tr>\n",
       "    <tr>\n",
       "      <th>50%</th>\n",
       "      <td>6.000000</td>\n",
       "      <td>3.000000</td>\n",
       "      <td>8.000000</td>\n",
       "    </tr>\n",
       "    <tr>\n",
       "      <th>75%</th>\n",
       "      <td>9.000000</td>\n",
       "      <td>4.000000</td>\n",
       "      <td>11.000000</td>\n",
       "    </tr>\n",
       "    <tr>\n",
       "      <th>max</th>\n",
       "      <td>2592.000000</td>\n",
       "      <td>2592.000000</td>\n",
       "      <td>2597.000000</td>\n",
       "    </tr>\n",
       "    <tr>\n",
       "      <th rowspan=\"8\" valign=\"top\">Credit_Utilization_Ratio</th>\n",
       "      <th>count</th>\n",
       "      <td>12007.000000</td>\n",
       "      <td>35667.000000</td>\n",
       "      <td>52326.000000</td>\n",
       "    </tr>\n",
       "    <tr>\n",
       "      <th>mean</th>\n",
       "      <td>32.247081</td>\n",
       "      <td>32.807988</td>\n",
       "      <td>31.937546</td>\n",
       "    </tr>\n",
       "    <tr>\n",
       "      <th>std</th>\n",
       "      <td>5.100680</td>\n",
       "      <td>5.217457</td>\n",
       "      <td>5.020495</td>\n",
       "    </tr>\n",
       "    <tr>\n",
       "      <th>min</th>\n",
       "      <td>20.985606</td>\n",
       "      <td>20.985919</td>\n",
       "      <td>20.000000</td>\n",
       "    </tr>\n",
       "    <tr>\n",
       "      <th>25%</th>\n",
       "      <td>28.073692</td>\n",
       "      <td>28.543177</td>\n",
       "      <td>27.730882</td>\n",
       "    </tr>\n",
       "    <tr>\n",
       "      <th>50%</th>\n",
       "      <td>32.301163</td>\n",
       "      <td>32.865462</td>\n",
       "      <td>31.963726</td>\n",
       "    </tr>\n",
       "    <tr>\n",
       "      <th>75%</th>\n",
       "      <td>36.415571</td>\n",
       "      <td>37.030270</td>\n",
       "      <td>36.136860</td>\n",
       "    </tr>\n",
       "    <tr>\n",
       "      <th>max</th>\n",
       "      <td>49.254983</td>\n",
       "      <td>50.000000</td>\n",
       "      <td>47.555983</td>\n",
       "    </tr>\n",
       "  </tbody>\n",
       "</table>\n",
       "</div>"
      ],
      "text/plain": [
       "Payment_of_Min_Amount                     NM            No           Yes\n",
       "Num_Credit_Inquiries     count  11791.000000  34939.000000  51305.000000\n",
       "                         mean      26.448732     24.540313     30.242998\n",
       "                         std      185.137721    190.559122    196.693877\n",
       "                         min        0.000000      0.000000      0.000000\n",
       "                         25%        3.000000      1.000000      6.000000\n",
       "                         50%        6.000000      3.000000      8.000000\n",
       "                         75%        9.000000      4.000000     11.000000\n",
       "                         max     2592.000000   2592.000000   2597.000000\n",
       "Credit_Utilization_Ratio count  12007.000000  35667.000000  52326.000000\n",
       "                         mean      32.247081     32.807988     31.937546\n",
       "                         std        5.100680      5.217457      5.020495\n",
       "                         min       20.985606     20.985919     20.000000\n",
       "                         25%       28.073692     28.543177     27.730882\n",
       "                         50%       32.301163     32.865462     31.963726\n",
       "                         75%       36.415571     37.030270     36.136860\n",
       "                         max       49.254983     50.000000     47.555983"
      ]
     },
     "execution_count": 51,
     "metadata": {},
     "output_type": "execute_result"
    }
   ],
   "source": [
    "credit_df.groupby(by = 'Payment_of_Min_Amount').describe().transpose().loc[['Num_Credit_Inquiries','Credit_Utilization_Ratio']]"
   ]
  },
  {
   "cell_type": "markdown",
   "id": "874f6f00",
   "metadata": {},
   "source": [
    "The Total_EMI_per_month column contains some extremely large faulty values(e.g., value greater than 10000). By observing the data, we have found that the Total_EMI_per_month values are typically the same for certain customer across different sample loan records of his. Hence, the faulty values will be replaced by with the mode value of the records for the corresponding customer (referring to the Customer_ID)."
   ]
  },
  {
   "cell_type": "code",
   "execution_count": 52,
   "id": "cfd964ae",
   "metadata": {},
   "outputs": [
    {
     "data": {
      "text/plain": [
       "Total_EMI_per_month\n",
       "0.000000        10613\n",
       "49.574949           8\n",
       "73.533361           8\n",
       "22.960835           8\n",
       "38.661127           8\n",
       "                ...  \n",
       "36408.000000        1\n",
       "23760.000000        1\n",
       "24612.000000        1\n",
       "24325.000000        1\n",
       "58638.000000        1\n",
       "Name: count, Length: 14950, dtype: int64"
      ]
     },
     "execution_count": 52,
     "metadata": {},
     "output_type": "execute_result"
    }
   ],
   "source": [
    "credit_df['Total_EMI_per_month'].value_counts(dropna=False)"
   ]
  },
  {
   "cell_type": "code",
   "execution_count": 53,
   "id": "42eb47b1",
   "metadata": {},
   "outputs": [],
   "source": [
    "# Function for preprocessing data in Total_EMI_per_month column\n",
    "def EMI_per_Month_preprocessing(data):\n",
    "    tmp_df_copy = data.copy()\n",
    "    tmp_pd_series = data['Total_EMI_per_month'].copy()\n",
    "    \n",
    "    # Calculate the first and the third quantile of Num_of_Loan column\n",
    "    Q1 = tmp_pd_series.quantile(0.25)\n",
    "    Q3 = tmp_pd_series.quantile(0.75)\n",
    "    # Replace abnormally large values with the mode Num_of_Loan value\n",
    "    # of the records for the corresponding customer (referring to the Customer_ID)\n",
    "    for i in tmp_pd_series.index:\n",
    "        #print(tmp_pd_series[i])\n",
    "        if is_outlier(tmp_pd_series[i], Q1, Q3):\n",
    "            cust_id = tmp_df_copy.loc[i]['Customer_ID']\n",
    "            cust_mode_val = get_cust_col_mode_val(tmp_df_copy, cust_id, 'Total_EMI_per_month')\n",
    "            tmp_pd_series[i] = cust_mode_val\n",
    "    \n",
    "    tmp_pd_series = tmp_pd_series.round(decimals=2)\n",
    "    return tmp_pd_series"
   ]
  },
  {
   "cell_type": "markdown",
   "id": "f481ae6d",
   "metadata": {},
   "source": [
    "In the Amount_invested_monthly column there are more than 4000 rows of NaN values and \\_\\_10000\\_\\_ respectively. Because the Amount_invested_monthly values of the same customer vary across different sample records and we don't know what the \\_\\_10000\\_\\_ means, we decided to drop the sample data with NaN and \\_\\_10000\\_\\_ values."
   ]
  },
  {
   "cell_type": "code",
   "execution_count": 54,
   "id": "1b3fe3b6",
   "metadata": {},
   "outputs": [
    {
     "data": {
      "text/plain": [
       "Amount_invested_monthly\n",
       "NaN                   4479\n",
       "__10000__             4305\n",
       "0.0                    169\n",
       "36.66235139442514        1\n",
       "89.7384893604547         1\n",
       "                      ... \n",
       "36.541908593249026       1\n",
       "93.45116318631192        1\n",
       "140.80972223052834       1\n",
       "38.73937670100975        1\n",
       "167.1638651610451        1\n",
       "Name: count, Length: 91050, dtype: int64"
      ]
     },
     "execution_count": 54,
     "metadata": {},
     "output_type": "execute_result"
    }
   ],
   "source": [
    "credit_df['Amount_invested_monthly'].value_counts(dropna=False)"
   ]
  },
  {
   "cell_type": "code",
   "execution_count": 55,
   "id": "d8b324f8",
   "metadata": {},
   "outputs": [],
   "source": [
    "def Month_Invest_Amount_preprocessing(data):\n",
    "    tmp_df_copy = data.copy()\n",
    "    tmp_df_copy.dropna(subset=['Amount_invested_monthly'], inplace=True)\n",
    "    tmp_pd_series = tmp_df_copy['Amount_invested_monthly'].copy()\n",
    "    \n",
    "    # remove the rows with '__10000__' Amount_invested_monthly value\n",
    "    for i in tmp_pd_series.index:\n",
    "        #print(tmp_pd_series[i])\n",
    "        if tmp_pd_series[i] == '__10000__':\n",
    "            tmp_df_copy.drop(index=i,inplace=True)\n",
    "            \n",
    "    # Convert the Amount_invested_monthly column to float and round to with 2 numbers of decimals\n",
    "    tmp_df_copy['Amount_invested_monthly'] = tmp_df_copy['Amount_invested_monthly'].astype(float).round(decimals=2)\n",
    "    return tmp_df_copy"
   ]
  },
  {
   "cell_type": "markdown",
   "id": "ec4d216d",
   "metadata": {},
   "source": [
    "In the Payment_Behaviour column there are 7600 rows with '!@9#%8' value. Because the Payment_Behaviour values of the same customer vary across different sample records and we don't know what '!@9#%8' means, we decided to drop the sample data with '!@9#%8' value."
   ]
  },
  {
   "cell_type": "markdown",
   "id": "1e2ebdad",
   "metadata": {},
   "source": [
    "In addition we will split the Payment_Behaviour into three 0-or-1 valued columns namely 'Low\\_Spent', 'Small\\_value\\_payments' and 'Medium\\_value\\_payments' respectively."
   ]
  },
  {
   "cell_type": "code",
   "execution_count": 56,
   "id": "8f01bebe",
   "metadata": {},
   "outputs": [
    {
     "data": {
      "text/plain": [
       "Payment_Behaviour\n",
       "Low_spent_Small_value_payments      25513\n",
       "High_spent_Medium_value_payments    17540\n",
       "Low_spent_Medium_value_payments     13861\n",
       "High_spent_Large_value_payments     13721\n",
       "High_spent_Small_value_payments     11340\n",
       "Low_spent_Large_value_payments      10425\n",
       "!@9#%8                               7600\n",
       "Name: count, dtype: int64"
      ]
     },
     "execution_count": 56,
     "metadata": {},
     "output_type": "execute_result"
    }
   ],
   "source": [
    "credit_df['Payment_Behaviour'].value_counts(dropna=False)"
   ]
  },
  {
   "cell_type": "code",
   "execution_count": 4,
   "id": "7dc946c3",
   "metadata": {},
   "outputs": [],
   "source": [
    "def Payment_Behaviour_preprocessing(data):\n",
    "    tmp_df_copy = data.copy()\n",
    "    \n",
    "    # Initialize a dictionary for future use to create a new dataframe for the loan types\n",
    "    behaviour_types = ['Low_Spent', 'Small_value_payments', 'Medium_value_payments']\n",
    "    behaviour_types = ['Payment_Behaviour_'+Type for Type in behaviour_types]\n",
    "    behav_type_dict = {}\n",
    "    for behav_type in behaviour_types:\n",
    "        behav_type_dict[behav_type] = []\n",
    "    \n",
    "    # Drop the rows with '!@9#%8' Payment_Behaviour value in the first loop\n",
    "    for i in tmp_df_copy.index:\n",
    "        if tmp_df_copy.loc[i]['Payment_Behaviour'] == '!@9#%8':\n",
    "            tmp_df_copy.drop(index=i,inplace=True)\n",
    "    \n",
    "    \n",
    "    tmp_pd_series = tmp_df_copy['Payment_Behaviour'].copy()\n",
    "    for i in tmp_pd_series.index:\n",
    "        # Get the unique loan types for current sample data\n",
    "        pay_behav_type = tmp_pd_series[i].split('_spent_')\n",
    "        spent_type = pay_behav_type[0]\n",
    "        value_payment_type = pay_behav_type[1].replace('_value_payments','')\n",
    "            \n",
    "        #print(spent_type)\n",
    "        #print(value_payment_type)\n",
    "        # Add 0 or 1 into the corresponding lists in behav_type_dict\n",
    "        if spent_type == 'Low':\n",
    "            behav_type_dict['Payment_Behaviour_Low_Spent'].append(1)\n",
    "        else:\n",
    "            behav_type_dict['Payment_Behaviour_Low_Spent'].append(0)\n",
    "        if value_payment_type == 'Small':\n",
    "            behav_type_dict['Payment_Behaviour_Small_value_payments'].append(1)\n",
    "            behav_type_dict['Payment_Behaviour_Medium_value_payments'].append(0)\n",
    "        elif value_payment_type == 'Medium':\n",
    "            behav_type_dict['Payment_Behaviour_Small_value_payments'].append(0)\n",
    "            behav_type_dict['Payment_Behaviour_Medium_value_payments'].append(1)\n",
    "        else:\n",
    "            behav_type_dict['Payment_Behaviour_Small_value_payments'].append(0)\n",
    "            behav_type_dict['Payment_Behaviour_Medium_value_payments'].append(0)\n",
    "        \n",
    "                \n",
    "    # Create a dataframe with the behav_type_dict dictionary\n",
    "    behav_type_df = pd.DataFrame(behav_type_dict, index=tmp_df_copy.index)\n",
    "    # Concatenate the behav_type_df with the tmp_df_copy and drop the original Payment_Behaviour column\n",
    "    tmp_df_copy = pd.concat([tmp_df_copy.drop(columns=['Payment_Behaviour']),behav_type_df], axis = 1)\n",
    "    \n",
    "    return tmp_df_copy"
   ]
  },
  {
   "cell_type": "markdown",
   "id": "8708c865",
   "metadata": {},
   "source": [
    "In the Monthly_Balance column there are 1200 and 9 rows of NaN values and '\\_\\_-333333333333333333333333333\\_\\_' respectively. Because the Monthly_Balance values of the same customer vary across different sample records and we don't know what the '\\_\\_-333333333333333333333333333\\_\\_' means, we decided to drop the sample data with NaN and '\\_\\_-333333333333333333333333333\\_\\_' values. \n",
    "\n",
    "In addition, lots of the values in Monthly_Balance have more than 2 numbers of decimals which does not make sense. We will round the values down to with only 2 numbers of decimals."
   ]
  },
  {
   "cell_type": "code",
   "execution_count": 58,
   "id": "56db5ed4",
   "metadata": {},
   "outputs": [
    {
     "data": {
      "text/plain": [
       "Monthly_Balance\n",
       "NaN                                 1200\n",
       "__-333333333333333333333333333__       9\n",
       "312.49408867943663                     1\n",
       "347.413889978152                       1\n",
       "254.9709216273975                      1\n",
       "                                    ... \n",
       "366.2890379762706                      1\n",
       "151.1882696261166                      1\n",
       "306.75027851710234                     1\n",
       "278.8720257394474                      1\n",
       "393.6736955618808                      1\n",
       "Name: count, Length: 98793, dtype: int64"
      ]
     },
     "execution_count": 58,
     "metadata": {},
     "output_type": "execute_result"
    }
   ],
   "source": [
    "credit_df['Monthly_Balance'].value_counts(dropna=False)"
   ]
  },
  {
   "cell_type": "code",
   "execution_count": 59,
   "id": "5378e5b8",
   "metadata": {},
   "outputs": [],
   "source": [
    "def Month_Balance_preprocessing(data):\n",
    "    tmp_df_copy = data.copy()\n",
    "    tmp_df_copy.dropna(subset=['Monthly_Balance'], inplace=True)\n",
    "    tmp_pd_series = tmp_df_copy['Monthly_Balance'].copy()\n",
    "    \n",
    "    # remove the rows with '__-333333333333333333333333333__' Monthly_Balance value\n",
    "    for i in tmp_pd_series.index:\n",
    "        #print(tmp_pd_series[i])\n",
    "        if tmp_pd_series[i] == '__-333333333333333333333333333__':\n",
    "            tmp_df_copy.drop(index=i,inplace=True)\n",
    "            \n",
    "    # Convert the Monthly_Balance column to float and round to with 2 numbers of decimals\n",
    "    tmp_df_copy['Monthly_Balance'] = tmp_df_copy['Monthly_Balance'].astype(float).round(decimals=2)\n",
    "    return tmp_df_copy"
   ]
  },
  {
   "cell_type": "markdown",
   "id": "6ca89674",
   "metadata": {},
   "source": [
    "## Run all the preprocessing functions defined above to preprocess the data "
   ]
  },
  {
   "cell_type": "code",
   "execution_count": 60,
   "id": "0b564220",
   "metadata": {},
   "outputs": [
    {
     "data": {
      "text/plain": [
       "count    100000.000000\n",
       "mean         33.311180\n",
       "std          10.764783\n",
       "min          14.000000\n",
       "25%          24.000000\n",
       "50%          33.000000\n",
       "75%          42.000000\n",
       "max          56.000000\n",
       "Name: Age, dtype: float64"
      ]
     },
     "execution_count": 60,
     "metadata": {},
     "output_type": "execute_result"
    }
   ],
   "source": [
    "credit_df['Age'] = Age_preprocessing(credit_df)\n",
    "credit_df['Age'].describe()"
   ]
  },
  {
   "cell_type": "code",
   "execution_count": 61,
   "id": "57bfcb7a",
   "metadata": {},
   "outputs": [
    {
     "data": {
      "text/plain": [
       "Occupation\n",
       "Lawyer           7096\n",
       "Engineer         6864\n",
       "Architect        6824\n",
       "Mechanic         6776\n",
       "Scientist        6744\n",
       "Accountant       6744\n",
       "Developer        6720\n",
       "Media_Manager    6720\n",
       "Teacher          6672\n",
       "Entrepreneur     6648\n",
       "Doctor           6568\n",
       "Journalist       6536\n",
       "Manager          6432\n",
       "Musician         6352\n",
       "Writer           6304\n",
       "Name: count, dtype: int64"
      ]
     },
     "execution_count": 61,
     "metadata": {},
     "output_type": "execute_result"
    }
   ],
   "source": [
    "credit_df['Occupation'] = Occup_preprocessing(credit_df)\n",
    "credit_df['Occupation'].value_counts()"
   ]
  },
  {
   "cell_type": "code",
   "execution_count": 62,
   "id": "87c3f1ba",
   "metadata": {},
   "outputs": [
    {
     "data": {
      "text/plain": [
       "count    1.000000e+05\n",
       "mean     1.764157e+05\n",
       "std      1.429618e+06\n",
       "min      7.005930e+03\n",
       "25%      1.945750e+04\n",
       "50%      3.757861e+04\n",
       "75%      7.279092e+04\n",
       "max      2.419806e+07\n",
       "Name: Annual_Income, dtype: float64"
      ]
     },
     "execution_count": 62,
     "metadata": {},
     "output_type": "execute_result"
    }
   ],
   "source": [
    "credit_df['Annual_Income'] = Annual_Income_preprocessing(credit_df)\n",
    "credit_df['Annual_Income'].describe()"
   ]
  },
  {
   "cell_type": "code",
   "execution_count": 63,
   "id": "e74d02e6",
   "metadata": {},
   "outputs": [
    {
     "data": {
      "text/plain": [
       "count    100000.000000\n",
       "mean       4198.350924\n",
       "std        3187.402015\n",
       "min         303.645417\n",
       "25%        1626.761667\n",
       "50%        3095.978333\n",
       "75%        5961.637500\n",
       "max       15204.633333\n",
       "Name: Monthly_Inhand_Salary, dtype: float64"
      ]
     },
     "execution_count": 63,
     "metadata": {},
     "output_type": "execute_result"
    }
   ],
   "source": [
    "credit_df['Monthly_Inhand_Salary'] = Month_Salary_preprocessing(credit_df)\n",
    "credit_df['Monthly_Inhand_Salary'].describe()"
   ]
  },
  {
   "cell_type": "code",
   "execution_count": 64,
   "id": "a1ac7dbf",
   "metadata": {},
   "outputs": [],
   "source": [
    "credit_df['Num_Bank_Accounts'], credit_df['Num_Credit_Card'], credit_df['Interest_Rate'] = num_of_account_card_inter_rate_preprocessing(credit_df)"
   ]
  },
  {
   "cell_type": "code",
   "execution_count": 65,
   "id": "3802267d",
   "metadata": {},
   "outputs": [
    {
     "data": {
      "text/plain": [
       "count    100000.000000\n",
       "mean          5.368840\n",
       "std           2.593273\n",
       "min           0.000000\n",
       "25%           3.000000\n",
       "50%           5.000000\n",
       "75%           7.000000\n",
       "max          11.000000\n",
       "Name: Num_Bank_Accounts, dtype: float64"
      ]
     },
     "execution_count": 65,
     "metadata": {},
     "output_type": "execute_result"
    }
   ],
   "source": [
    "credit_df['Num_Bank_Accounts'].describe()"
   ]
  },
  {
   "cell_type": "code",
   "execution_count": 66,
   "id": "192e61e2",
   "metadata": {},
   "outputs": [
    {
     "data": {
      "text/plain": [
       "count    100000.000000\n",
       "mean          5.533680\n",
       "std           2.067126\n",
       "min           0.000000\n",
       "25%           4.000000\n",
       "50%           5.000000\n",
       "75%           7.000000\n",
       "max          11.000000\n",
       "Name: Num_Credit_Card, dtype: float64"
      ]
     },
     "execution_count": 66,
     "metadata": {},
     "output_type": "execute_result"
    }
   ],
   "source": [
    "credit_df['Num_Credit_Card'].describe()"
   ]
  },
  {
   "cell_type": "code",
   "execution_count": 67,
   "id": "6c1b558c",
   "metadata": {},
   "outputs": [
    {
     "data": {
      "text/plain": [
       "count    100000.00000\n",
       "mean         14.53208\n",
       "std           8.74133\n",
       "min           1.00000\n",
       "25%           7.00000\n",
       "50%          13.00000\n",
       "75%          20.00000\n",
       "max          34.00000\n",
       "Name: Interest_Rate, dtype: float64"
      ]
     },
     "execution_count": 67,
     "metadata": {},
     "output_type": "execute_result"
    }
   ],
   "source": [
    "credit_df['Interest_Rate'].describe()"
   ]
  },
  {
   "cell_type": "code",
   "execution_count": 68,
   "id": "eed447ae",
   "metadata": {},
   "outputs": [],
   "source": [
    "credit_df['Num_of_Loan'] = Num_of_Loan_preprocessing(credit_df)"
   ]
  },
  {
   "cell_type": "code",
   "execution_count": 69,
   "id": "d56693f2",
   "metadata": {},
   "outputs": [
    {
     "data": {
      "text/plain": [
       "count    100000.000000\n",
       "mean          3.532880\n",
       "std           2.446356\n",
       "min           0.000000\n",
       "25%           2.000000\n",
       "50%           3.000000\n",
       "75%           5.000000\n",
       "max           9.000000\n",
       "Name: Num_of_Loan, dtype: float64"
      ]
     },
     "execution_count": 69,
     "metadata": {},
     "output_type": "execute_result"
    }
   ],
   "source": [
    "credit_df['Num_of_Loan'].describe()"
   ]
  },
  {
   "cell_type": "code",
   "execution_count": 70,
   "id": "79a53482",
   "metadata": {},
   "outputs": [],
   "source": [
    "credit_df = pd.concat([credit_df.drop(columns=['Type_of_Loan']),Loan_Types_preprocessing(credit_df)], axis = 1)"
   ]
  },
  {
   "cell_type": "code",
   "execution_count": 71,
   "id": "b2929632",
   "metadata": {},
   "outputs": [
    {
     "data": {
      "text/html": [
       "<div>\n",
       "<style scoped>\n",
       "    .dataframe tbody tr th:only-of-type {\n",
       "        vertical-align: middle;\n",
       "    }\n",
       "\n",
       "    .dataframe tbody tr th {\n",
       "        vertical-align: top;\n",
       "    }\n",
       "\n",
       "    .dataframe thead th {\n",
       "        text-align: right;\n",
       "    }\n",
       "</style>\n",
       "<table border=\"1\" class=\"dataframe\">\n",
       "  <thead>\n",
       "    <tr style=\"text-align: right;\">\n",
       "      <th></th>\n",
       "      <th>ID</th>\n",
       "      <th>Customer_ID</th>\n",
       "      <th>Month</th>\n",
       "      <th>Name</th>\n",
       "      <th>Age</th>\n",
       "      <th>SSN</th>\n",
       "      <th>Occupation</th>\n",
       "      <th>Annual_Income</th>\n",
       "      <th>Monthly_Inhand_Salary</th>\n",
       "      <th>Num_Bank_Accounts</th>\n",
       "      <th>...</th>\n",
       "      <th>Credit_Score</th>\n",
       "      <th>Auto Loan</th>\n",
       "      <th>Credit-Builder Loan</th>\n",
       "      <th>Personal Loan</th>\n",
       "      <th>Home Equity Loan</th>\n",
       "      <th>Not Specified</th>\n",
       "      <th>Mortgage Loan</th>\n",
       "      <th>Student Loan</th>\n",
       "      <th>Debt Consolidation Loan</th>\n",
       "      <th>Payday Loan</th>\n",
       "    </tr>\n",
       "  </thead>\n",
       "  <tbody>\n",
       "    <tr>\n",
       "      <th>0</th>\n",
       "      <td>0x1602</td>\n",
       "      <td>CUS_0xd40</td>\n",
       "      <td>January</td>\n",
       "      <td>Aaron Maashoh</td>\n",
       "      <td>23</td>\n",
       "      <td>821-00-0265</td>\n",
       "      <td>Scientist</td>\n",
       "      <td>19114.12</td>\n",
       "      <td>1824.843333</td>\n",
       "      <td>3</td>\n",
       "      <td>...</td>\n",
       "      <td>Good</td>\n",
       "      <td>1</td>\n",
       "      <td>1</td>\n",
       "      <td>1</td>\n",
       "      <td>1</td>\n",
       "      <td>0</td>\n",
       "      <td>0</td>\n",
       "      <td>0</td>\n",
       "      <td>0</td>\n",
       "      <td>0</td>\n",
       "    </tr>\n",
       "    <tr>\n",
       "      <th>1</th>\n",
       "      <td>0x1603</td>\n",
       "      <td>CUS_0xd40</td>\n",
       "      <td>February</td>\n",
       "      <td>Aaron Maashoh</td>\n",
       "      <td>23</td>\n",
       "      <td>821-00-0265</td>\n",
       "      <td>Scientist</td>\n",
       "      <td>19114.12</td>\n",
       "      <td>1824.843333</td>\n",
       "      <td>3</td>\n",
       "      <td>...</td>\n",
       "      <td>Good</td>\n",
       "      <td>1</td>\n",
       "      <td>1</td>\n",
       "      <td>1</td>\n",
       "      <td>1</td>\n",
       "      <td>0</td>\n",
       "      <td>0</td>\n",
       "      <td>0</td>\n",
       "      <td>0</td>\n",
       "      <td>0</td>\n",
       "    </tr>\n",
       "    <tr>\n",
       "      <th>2</th>\n",
       "      <td>0x1604</td>\n",
       "      <td>CUS_0xd40</td>\n",
       "      <td>March</td>\n",
       "      <td>Aaron Maashoh</td>\n",
       "      <td>23</td>\n",
       "      <td>821-00-0265</td>\n",
       "      <td>Scientist</td>\n",
       "      <td>19114.12</td>\n",
       "      <td>1824.843333</td>\n",
       "      <td>3</td>\n",
       "      <td>...</td>\n",
       "      <td>Good</td>\n",
       "      <td>1</td>\n",
       "      <td>1</td>\n",
       "      <td>1</td>\n",
       "      <td>1</td>\n",
       "      <td>0</td>\n",
       "      <td>0</td>\n",
       "      <td>0</td>\n",
       "      <td>0</td>\n",
       "      <td>0</td>\n",
       "    </tr>\n",
       "    <tr>\n",
       "      <th>3</th>\n",
       "      <td>0x1605</td>\n",
       "      <td>CUS_0xd40</td>\n",
       "      <td>April</td>\n",
       "      <td>Aaron Maashoh</td>\n",
       "      <td>23</td>\n",
       "      <td>821-00-0265</td>\n",
       "      <td>Scientist</td>\n",
       "      <td>19114.12</td>\n",
       "      <td>1824.843333</td>\n",
       "      <td>3</td>\n",
       "      <td>...</td>\n",
       "      <td>Good</td>\n",
       "      <td>1</td>\n",
       "      <td>1</td>\n",
       "      <td>1</td>\n",
       "      <td>1</td>\n",
       "      <td>0</td>\n",
       "      <td>0</td>\n",
       "      <td>0</td>\n",
       "      <td>0</td>\n",
       "      <td>0</td>\n",
       "    </tr>\n",
       "    <tr>\n",
       "      <th>4</th>\n",
       "      <td>0x1606</td>\n",
       "      <td>CUS_0xd40</td>\n",
       "      <td>May</td>\n",
       "      <td>Aaron Maashoh</td>\n",
       "      <td>23</td>\n",
       "      <td>821-00-0265</td>\n",
       "      <td>Scientist</td>\n",
       "      <td>19114.12</td>\n",
       "      <td>1824.843333</td>\n",
       "      <td>3</td>\n",
       "      <td>...</td>\n",
       "      <td>Good</td>\n",
       "      <td>1</td>\n",
       "      <td>1</td>\n",
       "      <td>1</td>\n",
       "      <td>1</td>\n",
       "      <td>0</td>\n",
       "      <td>0</td>\n",
       "      <td>0</td>\n",
       "      <td>0</td>\n",
       "      <td>0</td>\n",
       "    </tr>\n",
       "    <tr>\n",
       "      <th>...</th>\n",
       "      <td>...</td>\n",
       "      <td>...</td>\n",
       "      <td>...</td>\n",
       "      <td>...</td>\n",
       "      <td>...</td>\n",
       "      <td>...</td>\n",
       "      <td>...</td>\n",
       "      <td>...</td>\n",
       "      <td>...</td>\n",
       "      <td>...</td>\n",
       "      <td>...</td>\n",
       "      <td>...</td>\n",
       "      <td>...</td>\n",
       "      <td>...</td>\n",
       "      <td>...</td>\n",
       "      <td>...</td>\n",
       "      <td>...</td>\n",
       "      <td>...</td>\n",
       "      <td>...</td>\n",
       "      <td>...</td>\n",
       "      <td>...</td>\n",
       "    </tr>\n",
       "    <tr>\n",
       "      <th>99995</th>\n",
       "      <td>0x25fe9</td>\n",
       "      <td>CUS_0x942c</td>\n",
       "      <td>April</td>\n",
       "      <td>Nicks</td>\n",
       "      <td>25</td>\n",
       "      <td>078-73-5990</td>\n",
       "      <td>Mechanic</td>\n",
       "      <td>39628.99</td>\n",
       "      <td>3359.415833</td>\n",
       "      <td>4</td>\n",
       "      <td>...</td>\n",
       "      <td>Poor</td>\n",
       "      <td>1</td>\n",
       "      <td>0</td>\n",
       "      <td>0</td>\n",
       "      <td>0</td>\n",
       "      <td>0</td>\n",
       "      <td>0</td>\n",
       "      <td>1</td>\n",
       "      <td>0</td>\n",
       "      <td>0</td>\n",
       "    </tr>\n",
       "    <tr>\n",
       "      <th>99996</th>\n",
       "      <td>0x25fea</td>\n",
       "      <td>CUS_0x942c</td>\n",
       "      <td>May</td>\n",
       "      <td>Nicks</td>\n",
       "      <td>25</td>\n",
       "      <td>078-73-5990</td>\n",
       "      <td>Mechanic</td>\n",
       "      <td>39628.99</td>\n",
       "      <td>3359.415833</td>\n",
       "      <td>4</td>\n",
       "      <td>...</td>\n",
       "      <td>Poor</td>\n",
       "      <td>1</td>\n",
       "      <td>0</td>\n",
       "      <td>0</td>\n",
       "      <td>0</td>\n",
       "      <td>0</td>\n",
       "      <td>0</td>\n",
       "      <td>1</td>\n",
       "      <td>0</td>\n",
       "      <td>0</td>\n",
       "    </tr>\n",
       "    <tr>\n",
       "      <th>99997</th>\n",
       "      <td>0x25feb</td>\n",
       "      <td>CUS_0x942c</td>\n",
       "      <td>June</td>\n",
       "      <td>Nicks</td>\n",
       "      <td>25</td>\n",
       "      <td>078-73-5990</td>\n",
       "      <td>Mechanic</td>\n",
       "      <td>39628.99</td>\n",
       "      <td>3359.415833</td>\n",
       "      <td>4</td>\n",
       "      <td>...</td>\n",
       "      <td>Poor</td>\n",
       "      <td>1</td>\n",
       "      <td>0</td>\n",
       "      <td>0</td>\n",
       "      <td>0</td>\n",
       "      <td>0</td>\n",
       "      <td>0</td>\n",
       "      <td>1</td>\n",
       "      <td>0</td>\n",
       "      <td>0</td>\n",
       "    </tr>\n",
       "    <tr>\n",
       "      <th>99998</th>\n",
       "      <td>0x25fec</td>\n",
       "      <td>CUS_0x942c</td>\n",
       "      <td>July</td>\n",
       "      <td>Nicks</td>\n",
       "      <td>25</td>\n",
       "      <td>078-73-5990</td>\n",
       "      <td>Mechanic</td>\n",
       "      <td>39628.99</td>\n",
       "      <td>3359.415833</td>\n",
       "      <td>4</td>\n",
       "      <td>...</td>\n",
       "      <td>Standard</td>\n",
       "      <td>1</td>\n",
       "      <td>0</td>\n",
       "      <td>0</td>\n",
       "      <td>0</td>\n",
       "      <td>0</td>\n",
       "      <td>0</td>\n",
       "      <td>1</td>\n",
       "      <td>0</td>\n",
       "      <td>0</td>\n",
       "    </tr>\n",
       "    <tr>\n",
       "      <th>99999</th>\n",
       "      <td>0x25fed</td>\n",
       "      <td>CUS_0x942c</td>\n",
       "      <td>August</td>\n",
       "      <td>Nicks</td>\n",
       "      <td>25</td>\n",
       "      <td>078-73-5990</td>\n",
       "      <td>Mechanic</td>\n",
       "      <td>39628.99</td>\n",
       "      <td>3359.415833</td>\n",
       "      <td>4</td>\n",
       "      <td>...</td>\n",
       "      <td>Poor</td>\n",
       "      <td>1</td>\n",
       "      <td>0</td>\n",
       "      <td>0</td>\n",
       "      <td>0</td>\n",
       "      <td>0</td>\n",
       "      <td>0</td>\n",
       "      <td>1</td>\n",
       "      <td>0</td>\n",
       "      <td>0</td>\n",
       "    </tr>\n",
       "  </tbody>\n",
       "</table>\n",
       "<p>100000 rows × 36 columns</p>\n",
       "</div>"
      ],
      "text/plain": [
       "            ID Customer_ID     Month           Name  Age          SSN  \\\n",
       "0       0x1602   CUS_0xd40   January  Aaron Maashoh   23  821-00-0265   \n",
       "1       0x1603   CUS_0xd40  February  Aaron Maashoh   23  821-00-0265   \n",
       "2       0x1604   CUS_0xd40     March  Aaron Maashoh   23  821-00-0265   \n",
       "3       0x1605   CUS_0xd40     April  Aaron Maashoh   23  821-00-0265   \n",
       "4       0x1606   CUS_0xd40       May  Aaron Maashoh   23  821-00-0265   \n",
       "...        ...         ...       ...            ...  ...          ...   \n",
       "99995  0x25fe9  CUS_0x942c     April          Nicks   25  078-73-5990   \n",
       "99996  0x25fea  CUS_0x942c       May          Nicks   25  078-73-5990   \n",
       "99997  0x25feb  CUS_0x942c      June          Nicks   25  078-73-5990   \n",
       "99998  0x25fec  CUS_0x942c      July          Nicks   25  078-73-5990   \n",
       "99999  0x25fed  CUS_0x942c    August          Nicks   25  078-73-5990   \n",
       "\n",
       "      Occupation  Annual_Income  Monthly_Inhand_Salary  Num_Bank_Accounts  \\\n",
       "0      Scientist       19114.12            1824.843333                  3   \n",
       "1      Scientist       19114.12            1824.843333                  3   \n",
       "2      Scientist       19114.12            1824.843333                  3   \n",
       "3      Scientist       19114.12            1824.843333                  3   \n",
       "4      Scientist       19114.12            1824.843333                  3   \n",
       "...          ...            ...                    ...                ...   \n",
       "99995   Mechanic       39628.99            3359.415833                  4   \n",
       "99996   Mechanic       39628.99            3359.415833                  4   \n",
       "99997   Mechanic       39628.99            3359.415833                  4   \n",
       "99998   Mechanic       39628.99            3359.415833                  4   \n",
       "99999   Mechanic       39628.99            3359.415833                  4   \n",
       "\n",
       "       ...  Credit_Score  Auto Loan  Credit-Builder Loan  Personal Loan  \\\n",
       "0      ...          Good          1                    1              1   \n",
       "1      ...          Good          1                    1              1   \n",
       "2      ...          Good          1                    1              1   \n",
       "3      ...          Good          1                    1              1   \n",
       "4      ...          Good          1                    1              1   \n",
       "...    ...           ...        ...                  ...            ...   \n",
       "99995  ...          Poor          1                    0              0   \n",
       "99996  ...          Poor          1                    0              0   \n",
       "99997  ...          Poor          1                    0              0   \n",
       "99998  ...      Standard          1                    0              0   \n",
       "99999  ...          Poor          1                    0              0   \n",
       "\n",
       "      Home Equity Loan Not Specified  Mortgage Loan Student Loan  \\\n",
       "0                    1             0              0            0   \n",
       "1                    1             0              0            0   \n",
       "2                    1             0              0            0   \n",
       "3                    1             0              0            0   \n",
       "4                    1             0              0            0   \n",
       "...                ...           ...            ...          ...   \n",
       "99995                0             0              0            1   \n",
       "99996                0             0              0            1   \n",
       "99997                0             0              0            1   \n",
       "99998                0             0              0            1   \n",
       "99999                0             0              0            1   \n",
       "\n",
       "      Debt Consolidation Loan  Payday Loan  \n",
       "0                           0            0  \n",
       "1                           0            0  \n",
       "2                           0            0  \n",
       "3                           0            0  \n",
       "4                           0            0  \n",
       "...                       ...          ...  \n",
       "99995                       0            0  \n",
       "99996                       0            0  \n",
       "99997                       0            0  \n",
       "99998                       0            0  \n",
       "99999                       0            0  \n",
       "\n",
       "[100000 rows x 36 columns]"
      ]
     },
     "execution_count": 71,
     "metadata": {},
     "output_type": "execute_result"
    }
   ],
   "source": [
    "credit_df"
   ]
  },
  {
   "cell_type": "code",
   "execution_count": 72,
   "id": "83b97508",
   "metadata": {},
   "outputs": [],
   "source": [
    "credit_df = Num_of_Delayed_Payment_preprocessing(credit_df)"
   ]
  },
  {
   "cell_type": "code",
   "execution_count": 73,
   "id": "d8aad650",
   "metadata": {},
   "outputs": [
    {
     "data": {
      "text/plain": [
       "count    91618.000000\n",
       "mean        13.419634\n",
       "std          6.207354\n",
       "min          0.000000\n",
       "25%          9.000000\n",
       "50%         14.000000\n",
       "75%         18.000000\n",
       "max         28.000000\n",
       "Name: Num_of_Delayed_Payment, dtype: float64"
      ]
     },
     "execution_count": 73,
     "metadata": {},
     "output_type": "execute_result"
    }
   ],
   "source": [
    "credit_df['Num_of_Delayed_Payment'].describe()"
   ]
  },
  {
   "cell_type": "code",
   "execution_count": 74,
   "id": "bd2f0899",
   "metadata": {},
   "outputs": [],
   "source": [
    "credit_df['Changed_Credit_Limit'] = Credit_Limit_Change_preprocessing(credit_df)"
   ]
  },
  {
   "cell_type": "code",
   "execution_count": 75,
   "id": "8d66da4b",
   "metadata": {},
   "outputs": [
    {
     "data": {
      "text/plain": [
       "count    91618.000000\n",
       "mean        10.196895\n",
       "std          6.884127\n",
       "min         -6.490000\n",
       "25%          4.980000\n",
       "50%          9.280000\n",
       "75%         14.730000\n",
       "max         36.970000\n",
       "Name: Changed_Credit_Limit, dtype: float64"
      ]
     },
     "execution_count": 75,
     "metadata": {},
     "output_type": "execute_result"
    }
   ],
   "source": [
    "credit_df['Changed_Credit_Limit'].describe()"
   ]
  },
  {
   "cell_type": "code",
   "execution_count": 76,
   "id": "3af3fcf8",
   "metadata": {},
   "outputs": [],
   "source": [
    "credit_df['Num_Credit_Inquiries'] = Num_of_CI_preprocessing(credit_df)"
   ]
  },
  {
   "cell_type": "code",
   "execution_count": 77,
   "id": "8ab93e35",
   "metadata": {},
   "outputs": [
    {
     "data": {
      "text/plain": [
       "count    91618.000000\n",
       "mean         5.805049\n",
       "std          3.860227\n",
       "min          0.000000\n",
       "25%          3.000000\n",
       "50%          5.000000\n",
       "75%          9.000000\n",
       "max         17.000000\n",
       "Name: Num_Credit_Inquiries, dtype: float64"
      ]
     },
     "execution_count": 77,
     "metadata": {},
     "output_type": "execute_result"
    }
   ],
   "source": [
    "credit_df['Num_Credit_Inquiries'].describe()"
   ]
  },
  {
   "cell_type": "code",
   "execution_count": 78,
   "id": "116fcabc",
   "metadata": {},
   "outputs": [],
   "source": [
    "credit_df['Outstanding_Debt'] = Outstand_Debt_preprocessing(credit_df)"
   ]
  },
  {
   "cell_type": "code",
   "execution_count": 79,
   "id": "709f8533",
   "metadata": {},
   "outputs": [
    {
     "data": {
      "text/plain": [
       "count    91618.000000\n",
       "mean      1430.803249\n",
       "std       1156.583480\n",
       "min          0.230000\n",
       "25%        568.590000\n",
       "50%       1169.610000\n",
       "75%       1960.280000\n",
       "max       4998.070000\n",
       "Name: Outstanding_Debt, dtype: float64"
      ]
     },
     "execution_count": 79,
     "metadata": {},
     "output_type": "execute_result"
    }
   ],
   "source": [
    "credit_df['Outstanding_Debt'].describe()"
   ]
  },
  {
   "cell_type": "code",
   "execution_count": 80,
   "id": "b5567053",
   "metadata": {},
   "outputs": [],
   "source": [
    "credit_df = Credit_Hist_Age_preprocessing(credit_df)"
   ]
  },
  {
   "cell_type": "code",
   "execution_count": 81,
   "id": "7f218441",
   "metadata": {},
   "outputs": [
    {
     "data": {
      "text/plain": [
       "Credit_History_Age\n",
       "18    4856\n",
       "19    4746\n",
       "17    4639\n",
       "16    4602\n",
       "20    3795\n",
       "15    3147\n",
       "13    3048\n",
       "6     2944\n",
       "30    2927\n",
       "32    2853\n",
       "29    2846\n",
       "8     2803\n",
       "31    2792\n",
       "12    2777\n",
       "24    2743\n",
       "9     2734\n",
       "22    2723\n",
       "21    2716\n",
       "11    2705\n",
       "23    2701\n",
       "10    2700\n",
       "14    2694\n",
       "26    2691\n",
       "7     2678\n",
       "28    2673\n",
       "27    2671\n",
       "25    2568\n",
       "33    1743\n",
       "5     1601\n",
       "2      980\n",
       "1      935\n",
       "3      852\n",
       "4      755\n",
       "0      326\n",
       "34      26\n",
       "Name: count, dtype: int64"
      ]
     },
     "execution_count": 81,
     "metadata": {},
     "output_type": "execute_result"
    }
   ],
   "source": [
    "credit_df['Credit_History_Age'].value_counts(dropna=False)"
   ]
  },
  {
   "cell_type": "code",
   "execution_count": 82,
   "id": "0ba51182",
   "metadata": {},
   "outputs": [],
   "source": [
    "credit_df['Total_EMI_per_month'] = EMI_per_Month_preprocessing(credit_df)"
   ]
  },
  {
   "cell_type": "code",
   "execution_count": 83,
   "id": "d79b8a05",
   "metadata": {},
   "outputs": [
    {
     "data": {
      "text/plain": [
       "count    90990.000000\n",
       "mean       104.304882\n",
       "std        120.122082\n",
       "min          0.000000\n",
       "25%         29.180000\n",
       "50%         66.260000\n",
       "75%        145.615000\n",
       "max       1701.960000\n",
       "Name: Total_EMI_per_month, dtype: float64"
      ]
     },
     "execution_count": 83,
     "metadata": {},
     "output_type": "execute_result"
    }
   ],
   "source": [
    "credit_df['Total_EMI_per_month'].describe()"
   ]
  },
  {
   "cell_type": "code",
   "execution_count": 84,
   "id": "fa1fb966",
   "metadata": {},
   "outputs": [],
   "source": [
    "credit_df = Month_Invest_Amount_preprocessing(credit_df)"
   ]
  },
  {
   "cell_type": "code",
   "execution_count": 85,
   "id": "1df95c2a",
   "metadata": {},
   "outputs": [
    {
     "data": {
      "text/plain": [
       "Amount_invested_monthly\n",
       "0.00      154\n",
       "42.58      13\n",
       "67.88      13\n",
       "117.24     12\n",
       "63.67      12\n",
       "         ... \n",
       "100.09      1\n",
       "93.73       1\n",
       "466.36      1\n",
       "239.77      1\n",
       "167.16      1\n",
       "Name: count, Length: 36898, dtype: int64"
      ]
     },
     "execution_count": 85,
     "metadata": {},
     "output_type": "execute_result"
    }
   ],
   "source": [
    "credit_df['Amount_invested_monthly'].value_counts(dropna=False)"
   ]
  },
  {
   "cell_type": "code",
   "execution_count": 5,
   "id": "91c93603",
   "metadata": {},
   "outputs": [],
   "source": [
    "credit_df = Payment_Behaviour_preprocessing(credit_df)"
   ]
  },
  {
   "cell_type": "code",
   "execution_count": 7,
   "id": "24667587",
   "metadata": {},
   "outputs": [
    {
     "data": {
      "text/html": [
       "<div>\n",
       "<style scoped>\n",
       "    .dataframe tbody tr th:only-of-type {\n",
       "        vertical-align: middle;\n",
       "    }\n",
       "\n",
       "    .dataframe tbody tr th {\n",
       "        vertical-align: top;\n",
       "    }\n",
       "\n",
       "    .dataframe thead th {\n",
       "        text-align: right;\n",
       "    }\n",
       "</style>\n",
       "<table border=\"1\" class=\"dataframe\">\n",
       "  <thead>\n",
       "    <tr style=\"text-align: right;\">\n",
       "      <th></th>\n",
       "      <th>Payment_Behaviour</th>\n",
       "      <th>Payment_Behaviour_Low_Spent</th>\n",
       "      <th>Payment_Behaviour_Small_value_payments</th>\n",
       "      <th>Payment_Behaviour_Medium_value_payments</th>\n",
       "    </tr>\n",
       "  </thead>\n",
       "  <tbody>\n",
       "    <tr>\n",
       "      <th>0</th>\n",
       "      <td>High_spent_Small_value_payments</td>\n",
       "      <td>0</td>\n",
       "      <td>1</td>\n",
       "      <td>0</td>\n",
       "    </tr>\n",
       "    <tr>\n",
       "      <th>1</th>\n",
       "      <td>Low_spent_Large_value_payments</td>\n",
       "      <td>1</td>\n",
       "      <td>0</td>\n",
       "      <td>0</td>\n",
       "    </tr>\n",
       "    <tr>\n",
       "      <th>2</th>\n",
       "      <td>Low_spent_Medium_value_payments</td>\n",
       "      <td>1</td>\n",
       "      <td>0</td>\n",
       "      <td>1</td>\n",
       "    </tr>\n",
       "    <tr>\n",
       "      <th>3</th>\n",
       "      <td>Low_spent_Small_value_payments</td>\n",
       "      <td>1</td>\n",
       "      <td>1</td>\n",
       "      <td>0</td>\n",
       "    </tr>\n",
       "    <tr>\n",
       "      <th>4</th>\n",
       "      <td>High_spent_Medium_value_payments</td>\n",
       "      <td>0</td>\n",
       "      <td>0</td>\n",
       "      <td>1</td>\n",
       "    </tr>\n",
       "    <tr>\n",
       "      <th>...</th>\n",
       "      <td>...</td>\n",
       "      <td>...</td>\n",
       "      <td>...</td>\n",
       "      <td>...</td>\n",
       "    </tr>\n",
       "    <tr>\n",
       "      <th>99994</th>\n",
       "      <td>High_spent_Medium_value_payments</td>\n",
       "      <td>0</td>\n",
       "      <td>0</td>\n",
       "      <td>1</td>\n",
       "    </tr>\n",
       "    <tr>\n",
       "      <th>99995</th>\n",
       "      <td>High_spent_Large_value_payments</td>\n",
       "      <td>0</td>\n",
       "      <td>0</td>\n",
       "      <td>0</td>\n",
       "    </tr>\n",
       "    <tr>\n",
       "      <th>99996</th>\n",
       "      <td>High_spent_Medium_value_payments</td>\n",
       "      <td>0</td>\n",
       "      <td>0</td>\n",
       "      <td>1</td>\n",
       "    </tr>\n",
       "    <tr>\n",
       "      <th>99997</th>\n",
       "      <td>High_spent_Large_value_payments</td>\n",
       "      <td>0</td>\n",
       "      <td>0</td>\n",
       "      <td>0</td>\n",
       "    </tr>\n",
       "    <tr>\n",
       "      <th>99998</th>\n",
       "      <td>Low_spent_Large_value_payments</td>\n",
       "      <td>1</td>\n",
       "      <td>0</td>\n",
       "      <td>0</td>\n",
       "    </tr>\n",
       "  </tbody>\n",
       "</table>\n",
       "<p>92400 rows × 4 columns</p>\n",
       "</div>"
      ],
      "text/plain": [
       "                      Payment_Behaviour  Payment_Behaviour_Low_Spent  \\\n",
       "0       High_spent_Small_value_payments                            0   \n",
       "1        Low_spent_Large_value_payments                            1   \n",
       "2       Low_spent_Medium_value_payments                            1   \n",
       "3        Low_spent_Small_value_payments                            1   \n",
       "4      High_spent_Medium_value_payments                            0   \n",
       "...                                 ...                          ...   \n",
       "99994  High_spent_Medium_value_payments                            0   \n",
       "99995   High_spent_Large_value_payments                            0   \n",
       "99996  High_spent_Medium_value_payments                            0   \n",
       "99997   High_spent_Large_value_payments                            0   \n",
       "99998    Low_spent_Large_value_payments                            1   \n",
       "\n",
       "       Payment_Behaviour_Small_value_payments  \\\n",
       "0                                           1   \n",
       "1                                           0   \n",
       "2                                           0   \n",
       "3                                           1   \n",
       "4                                           0   \n",
       "...                                       ...   \n",
       "99994                                       0   \n",
       "99995                                       0   \n",
       "99996                                       0   \n",
       "99997                                       0   \n",
       "99998                                       0   \n",
       "\n",
       "       Payment_Behaviour_Medium_value_payments  \n",
       "0                                            0  \n",
       "1                                            0  \n",
       "2                                            1  \n",
       "3                                            0  \n",
       "4                                            1  \n",
       "...                                        ...  \n",
       "99994                                        1  \n",
       "99995                                        0  \n",
       "99996                                        1  \n",
       "99997                                        0  \n",
       "99998                                        0  \n",
       "\n",
       "[92400 rows x 4 columns]"
      ]
     },
     "execution_count": 7,
     "metadata": {},
     "output_type": "execute_result"
    }
   ],
   "source": [
    "credit_df[['Payment_Behaviour','Payment_Behaviour_Low_Spent', 'Payment_Behaviour_Small_value_payments', 'Payment_Behaviour_Medium_value_payments']]"
   ]
  },
  {
   "cell_type": "code",
   "execution_count": 88,
   "id": "af4de916",
   "metadata": {},
   "outputs": [],
   "source": [
    "credit_df = Month_Balance_preprocessing(credit_df)"
   ]
  },
  {
   "cell_type": "code",
   "execution_count": 89,
   "id": "49df4296",
   "metadata": {},
   "outputs": [
    {
     "data": {
      "text/plain": [
       "count    75821.000000\n",
       "mean       401.752618\n",
       "std        213.612704\n",
       "min          0.010000\n",
       "25%        269.760000\n",
       "50%        336.010000\n",
       "75%        468.620000\n",
       "max       1576.290000\n",
       "Name: Monthly_Balance, dtype: float64"
      ]
     },
     "execution_count": 89,
     "metadata": {},
     "output_type": "execute_result"
    }
   ],
   "source": [
    "credit_df['Monthly_Balance'].describe()"
   ]
  },
  {
   "cell_type": "code",
   "execution_count": 90,
   "id": "d88cceb5",
   "metadata": {},
   "outputs": [
    {
     "data": {
      "text/html": [
       "<div>\n",
       "<style scoped>\n",
       "    .dataframe tbody tr th:only-of-type {\n",
       "        vertical-align: middle;\n",
       "    }\n",
       "\n",
       "    .dataframe tbody tr th {\n",
       "        vertical-align: top;\n",
       "    }\n",
       "\n",
       "    .dataframe thead th {\n",
       "        text-align: right;\n",
       "    }\n",
       "</style>\n",
       "<table border=\"1\" class=\"dataframe\">\n",
       "  <thead>\n",
       "    <tr style=\"text-align: right;\">\n",
       "      <th></th>\n",
       "      <th>Age</th>\n",
       "      <th>Annual_Income</th>\n",
       "      <th>Monthly_Inhand_Salary</th>\n",
       "      <th>Num_Bank_Accounts</th>\n",
       "      <th>Num_Credit_Card</th>\n",
       "      <th>Interest_Rate</th>\n",
       "      <th>Num_of_Loan</th>\n",
       "      <th>Delay_from_due_date</th>\n",
       "      <th>Num_of_Delayed_Payment</th>\n",
       "      <th>Changed_Credit_Limit</th>\n",
       "      <th>...</th>\n",
       "      <th>Personal Loan</th>\n",
       "      <th>Home Equity Loan</th>\n",
       "      <th>Not Specified</th>\n",
       "      <th>Mortgage Loan</th>\n",
       "      <th>Student Loan</th>\n",
       "      <th>Debt Consolidation Loan</th>\n",
       "      <th>Payday Loan</th>\n",
       "      <th>Payment_Behaviour_Low_Spent</th>\n",
       "      <th>Payment_Behaviour_Small_value_payments</th>\n",
       "      <th>Payment_Behaviour_Medium_value_payments</th>\n",
       "    </tr>\n",
       "  </thead>\n",
       "  <tbody>\n",
       "    <tr>\n",
       "      <th>count</th>\n",
       "      <td>75821.000000</td>\n",
       "      <td>7.582100e+04</td>\n",
       "      <td>75821.000000</td>\n",
       "      <td>75821.000000</td>\n",
       "      <td>75821.000000</td>\n",
       "      <td>75821.000000</td>\n",
       "      <td>75821.000000</td>\n",
       "      <td>75821.000000</td>\n",
       "      <td>75821.000000</td>\n",
       "      <td>75821.000000</td>\n",
       "      <td>...</td>\n",
       "      <td>75821.000000</td>\n",
       "      <td>75821.000000</td>\n",
       "      <td>75821.000000</td>\n",
       "      <td>75821.000000</td>\n",
       "      <td>75821.000000</td>\n",
       "      <td>75821.000000</td>\n",
       "      <td>75821.000000</td>\n",
       "      <td>75821.000000</td>\n",
       "      <td>75821.000000</td>\n",
       "      <td>75821.000000</td>\n",
       "    </tr>\n",
       "    <tr>\n",
       "      <th>mean</th>\n",
       "      <td>33.260930</td>\n",
       "      <td>1.781567e+05</td>\n",
       "      <td>4145.134405</td>\n",
       "      <td>5.381293</td>\n",
       "      <td>5.544809</td>\n",
       "      <td>14.577320</td>\n",
       "      <td>3.524208</td>\n",
       "      <td>21.128249</td>\n",
       "      <td>13.423207</td>\n",
       "      <td>10.206444</td>\n",
       "      <td>...</td>\n",
       "      <td>0.311431</td>\n",
       "      <td>0.312684</td>\n",
       "      <td>0.316153</td>\n",
       "      <td>0.312209</td>\n",
       "      <td>0.310771</td>\n",
       "      <td>0.310811</td>\n",
       "      <td>0.319832</td>\n",
       "      <td>0.534179</td>\n",
       "      <td>0.395036</td>\n",
       "      <td>0.342293</td>\n",
       "    </tr>\n",
       "    <tr>\n",
       "      <th>std</th>\n",
       "      <td>10.767456</td>\n",
       "      <td>1.448595e+06</td>\n",
       "      <td>3166.134514</td>\n",
       "      <td>2.584578</td>\n",
       "      <td>2.061796</td>\n",
       "      <td>8.752473</td>\n",
       "      <td>2.441132</td>\n",
       "      <td>14.879676</td>\n",
       "      <td>6.207045</td>\n",
       "      <td>6.873881</td>\n",
       "      <td>...</td>\n",
       "      <td>0.463082</td>\n",
       "      <td>0.463590</td>\n",
       "      <td>0.464976</td>\n",
       "      <td>0.463398</td>\n",
       "      <td>0.462812</td>\n",
       "      <td>0.462829</td>\n",
       "      <td>0.466414</td>\n",
       "      <td>0.498834</td>\n",
       "      <td>0.488862</td>\n",
       "      <td>0.474480</td>\n",
       "    </tr>\n",
       "    <tr>\n",
       "      <th>min</th>\n",
       "      <td>14.000000</td>\n",
       "      <td>7.005930e+03</td>\n",
       "      <td>303.645417</td>\n",
       "      <td>0.000000</td>\n",
       "      <td>0.000000</td>\n",
       "      <td>1.000000</td>\n",
       "      <td>0.000000</td>\n",
       "      <td>-5.000000</td>\n",
       "      <td>0.000000</td>\n",
       "      <td>-6.490000</td>\n",
       "      <td>...</td>\n",
       "      <td>0.000000</td>\n",
       "      <td>0.000000</td>\n",
       "      <td>0.000000</td>\n",
       "      <td>0.000000</td>\n",
       "      <td>0.000000</td>\n",
       "      <td>0.000000</td>\n",
       "      <td>0.000000</td>\n",
       "      <td>0.000000</td>\n",
       "      <td>0.000000</td>\n",
       "      <td>0.000000</td>\n",
       "    </tr>\n",
       "    <tr>\n",
       "      <th>25%</th>\n",
       "      <td>24.000000</td>\n",
       "      <td>1.926727e+04</td>\n",
       "      <td>1615.457500</td>\n",
       "      <td>3.000000</td>\n",
       "      <td>4.000000</td>\n",
       "      <td>7.000000</td>\n",
       "      <td>2.000000</td>\n",
       "      <td>10.000000</td>\n",
       "      <td>9.000000</td>\n",
       "      <td>5.000000</td>\n",
       "      <td>...</td>\n",
       "      <td>0.000000</td>\n",
       "      <td>0.000000</td>\n",
       "      <td>0.000000</td>\n",
       "      <td>0.000000</td>\n",
       "      <td>0.000000</td>\n",
       "      <td>0.000000</td>\n",
       "      <td>0.000000</td>\n",
       "      <td>0.000000</td>\n",
       "      <td>0.000000</td>\n",
       "      <td>0.000000</td>\n",
       "    </tr>\n",
       "    <tr>\n",
       "      <th>50%</th>\n",
       "      <td>33.000000</td>\n",
       "      <td>3.682229e+04</td>\n",
       "      <td>3045.680000</td>\n",
       "      <td>6.000000</td>\n",
       "      <td>5.000000</td>\n",
       "      <td>13.000000</td>\n",
       "      <td>3.000000</td>\n",
       "      <td>18.000000</td>\n",
       "      <td>14.000000</td>\n",
       "      <td>9.300000</td>\n",
       "      <td>...</td>\n",
       "      <td>0.000000</td>\n",
       "      <td>0.000000</td>\n",
       "      <td>0.000000</td>\n",
       "      <td>0.000000</td>\n",
       "      <td>0.000000</td>\n",
       "      <td>0.000000</td>\n",
       "      <td>0.000000</td>\n",
       "      <td>1.000000</td>\n",
       "      <td>0.000000</td>\n",
       "      <td>0.000000</td>\n",
       "    </tr>\n",
       "    <tr>\n",
       "      <th>75%</th>\n",
       "      <td>42.000000</td>\n",
       "      <td>7.189294e+04</td>\n",
       "      <td>5896.016667</td>\n",
       "      <td>7.000000</td>\n",
       "      <td>7.000000</td>\n",
       "      <td>20.000000</td>\n",
       "      <td>5.000000</td>\n",
       "      <td>28.000000</td>\n",
       "      <td>18.000000</td>\n",
       "      <td>14.740000</td>\n",
       "      <td>...</td>\n",
       "      <td>1.000000</td>\n",
       "      <td>1.000000</td>\n",
       "      <td>1.000000</td>\n",
       "      <td>1.000000</td>\n",
       "      <td>1.000000</td>\n",
       "      <td>1.000000</td>\n",
       "      <td>1.000000</td>\n",
       "      <td>1.000000</td>\n",
       "      <td>1.000000</td>\n",
       "      <td>1.000000</td>\n",
       "    </tr>\n",
       "    <tr>\n",
       "      <th>max</th>\n",
       "      <td>56.000000</td>\n",
       "      <td>2.419806e+07</td>\n",
       "      <td>15204.633333</td>\n",
       "      <td>11.000000</td>\n",
       "      <td>11.000000</td>\n",
       "      <td>34.000000</td>\n",
       "      <td>9.000000</td>\n",
       "      <td>67.000000</td>\n",
       "      <td>28.000000</td>\n",
       "      <td>36.970000</td>\n",
       "      <td>...</td>\n",
       "      <td>1.000000</td>\n",
       "      <td>1.000000</td>\n",
       "      <td>1.000000</td>\n",
       "      <td>1.000000</td>\n",
       "      <td>1.000000</td>\n",
       "      <td>1.000000</td>\n",
       "      <td>1.000000</td>\n",
       "      <td>1.000000</td>\n",
       "      <td>1.000000</td>\n",
       "      <td>1.000000</td>\n",
       "    </tr>\n",
       "  </tbody>\n",
       "</table>\n",
       "<p>8 rows × 29 columns</p>\n",
       "</div>"
      ],
      "text/plain": [
       "                Age  Annual_Income  Monthly_Inhand_Salary  Num_Bank_Accounts  \\\n",
       "count  75821.000000   7.582100e+04           75821.000000       75821.000000   \n",
       "mean      33.260930   1.781567e+05            4145.134405           5.381293   \n",
       "std       10.767456   1.448595e+06            3166.134514           2.584578   \n",
       "min       14.000000   7.005930e+03             303.645417           0.000000   \n",
       "25%       24.000000   1.926727e+04            1615.457500           3.000000   \n",
       "50%       33.000000   3.682229e+04            3045.680000           6.000000   \n",
       "75%       42.000000   7.189294e+04            5896.016667           7.000000   \n",
       "max       56.000000   2.419806e+07           15204.633333          11.000000   \n",
       "\n",
       "       Num_Credit_Card  Interest_Rate   Num_of_Loan  Delay_from_due_date  \\\n",
       "count     75821.000000   75821.000000  75821.000000         75821.000000   \n",
       "mean          5.544809      14.577320      3.524208            21.128249   \n",
       "std           2.061796       8.752473      2.441132            14.879676   \n",
       "min           0.000000       1.000000      0.000000            -5.000000   \n",
       "25%           4.000000       7.000000      2.000000            10.000000   \n",
       "50%           5.000000      13.000000      3.000000            18.000000   \n",
       "75%           7.000000      20.000000      5.000000            28.000000   \n",
       "max          11.000000      34.000000      9.000000            67.000000   \n",
       "\n",
       "       Num_of_Delayed_Payment  Changed_Credit_Limit  ...  Personal Loan  \\\n",
       "count            75821.000000          75821.000000  ...   75821.000000   \n",
       "mean                13.423207             10.206444  ...       0.311431   \n",
       "std                  6.207045              6.873881  ...       0.463082   \n",
       "min                  0.000000             -6.490000  ...       0.000000   \n",
       "25%                  9.000000              5.000000  ...       0.000000   \n",
       "50%                 14.000000              9.300000  ...       0.000000   \n",
       "75%                 18.000000             14.740000  ...       1.000000   \n",
       "max                 28.000000             36.970000  ...       1.000000   \n",
       "\n",
       "       Home Equity Loan  Not Specified  Mortgage Loan  Student Loan  \\\n",
       "count      75821.000000   75821.000000   75821.000000  75821.000000   \n",
       "mean           0.312684       0.316153       0.312209      0.310771   \n",
       "std            0.463590       0.464976       0.463398      0.462812   \n",
       "min            0.000000       0.000000       0.000000      0.000000   \n",
       "25%            0.000000       0.000000       0.000000      0.000000   \n",
       "50%            0.000000       0.000000       0.000000      0.000000   \n",
       "75%            1.000000       1.000000       1.000000      1.000000   \n",
       "max            1.000000       1.000000       1.000000      1.000000   \n",
       "\n",
       "       Debt Consolidation Loan   Payday Loan  Payment_Behaviour_Low_Spent  \\\n",
       "count             75821.000000  75821.000000                 75821.000000   \n",
       "mean                  0.310811      0.319832                     0.534179   \n",
       "std                   0.462829      0.466414                     0.498834   \n",
       "min                   0.000000      0.000000                     0.000000   \n",
       "25%                   0.000000      0.000000                     0.000000   \n",
       "50%                   0.000000      0.000000                     1.000000   \n",
       "75%                   1.000000      1.000000                     1.000000   \n",
       "max                   1.000000      1.000000                     1.000000   \n",
       "\n",
       "       Payment_Behaviour_Small_value_payments  \\\n",
       "count                            75821.000000   \n",
       "mean                                 0.395036   \n",
       "std                                  0.488862   \n",
       "min                                  0.000000   \n",
       "25%                                  0.000000   \n",
       "50%                                  0.000000   \n",
       "75%                                  1.000000   \n",
       "max                                  1.000000   \n",
       "\n",
       "       Payment_Behaviour_Medium_value_payments  \n",
       "count                             75821.000000  \n",
       "mean                                  0.342293  \n",
       "std                                   0.474480  \n",
       "min                                   0.000000  \n",
       "25%                                   0.000000  \n",
       "50%                                   0.000000  \n",
       "75%                                   1.000000  \n",
       "max                                   1.000000  \n",
       "\n",
       "[8 rows x 29 columns]"
      ]
     },
     "execution_count": 90,
     "metadata": {},
     "output_type": "execute_result"
    }
   ],
   "source": [
    "credit_df.describe()"
   ]
  },
  {
   "cell_type": "code",
   "execution_count": 91,
   "id": "567b72f6",
   "metadata": {},
   "outputs": [
    {
     "data": {
      "text/plain": [
       "Index(['ID', 'Customer_ID', 'Month', 'Name', 'Age', 'SSN', 'Occupation',\n",
       "       'Annual_Income', 'Monthly_Inhand_Salary', 'Num_Bank_Accounts',\n",
       "       'Num_Credit_Card', 'Interest_Rate', 'Num_of_Loan',\n",
       "       'Delay_from_due_date', 'Num_of_Delayed_Payment', 'Changed_Credit_Limit',\n",
       "       'Num_Credit_Inquiries', 'Credit_Mix', 'Outstanding_Debt',\n",
       "       'Credit_Utilization_Ratio', 'Credit_History_Age',\n",
       "       'Payment_of_Min_Amount', 'Total_EMI_per_month',\n",
       "       'Amount_invested_monthly', 'Monthly_Balance', 'Credit_Score',\n",
       "       'Auto Loan', 'Credit-Builder Loan', 'Personal Loan', 'Home Equity Loan',\n",
       "       'Not Specified', 'Mortgage Loan', 'Student Loan',\n",
       "       'Debt Consolidation Loan', 'Payday Loan', 'Payment_Behaviour_Low_Spent',\n",
       "       'Payment_Behaviour_Small_value_payments',\n",
       "       'Payment_Behaviour_Medium_value_payments'],\n",
       "      dtype='object')"
      ]
     },
     "execution_count": 91,
     "metadata": {},
     "output_type": "execute_result"
    }
   ],
   "source": [
    "credit_df.columns"
   ]
  },
  {
   "cell_type": "code",
   "execution_count": 92,
   "id": "e7fd40df",
   "metadata": {},
   "outputs": [
    {
     "name": "stdout",
     "output_type": "stream",
     "text": [
      "0\n"
     ]
    }
   ],
   "source": [
    "print(sum(credit_df.drop(columns=['Month','Name','SSN']).isna().any(axis=1)))"
   ]
  },
  {
   "cell_type": "code",
   "execution_count": 93,
   "id": "80a09228",
   "metadata": {},
   "outputs": [],
   "source": [
    "credit_df = credit_df.reset_index(drop=True)"
   ]
  },
  {
   "cell_type": "code",
   "execution_count": 94,
   "id": "d756ea98",
   "metadata": {},
   "outputs": [],
   "source": [
    "credit_df.to_csv('credit_score/credit_score_data_cleaned.csv')"
   ]
  },
  {
   "cell_type": "code",
   "execution_count": null,
   "id": "fb2359fc",
   "metadata": {},
   "outputs": [],
   "source": []
  }
 ],
 "metadata": {
  "kernelspec": {
   "display_name": "Python 3 (ipykernel)",
   "language": "python",
   "name": "python3"
  },
  "language_info": {
   "codemirror_mode": {
    "name": "ipython",
    "version": 3
   },
   "file_extension": ".py",
   "mimetype": "text/x-python",
   "name": "python",
   "nbconvert_exporter": "python",
   "pygments_lexer": "ipython3",
   "version": "3.8.18"
  }
 },
 "nbformat": 4,
 "nbformat_minor": 5
}
